{
  "nbformat": 4,
  "nbformat_minor": 0,
  "metadata": {
    "colab": {
      "name": "Exercises.ipynb",
      "version": "0.3.2",
      "provenance": [],
      "include_colab_link": true
    },
    "kernelspec": {
      "name": "python3",
      "display_name": "Python 3"
    }
  },
  "cells": [
    {
      "cell_type": "markdown",
      "metadata": {
        "id": "view-in-github",
        "colab_type": "text"
      },
      "source": [
        "<a href=\"https://colab.research.google.com/github/naomori/codexa_Pandas_Introduction/blob/master/Exercises.ipynb\" target=\"_parent\"><img src=\"https://colab.research.google.com/assets/colab-badge.svg\" alt=\"Open In Colab\"/></a>"
      ]
    },
    {
      "cell_type": "markdown",
      "metadata": {
        "id": "5PEqgKxpDoFv",
        "colab_type": "text"
      },
      "source": [
        "# Question.1"
      ]
    },
    {
      "cell_type": "code",
      "metadata": {
        "id": "aSLKQKtXDnaI",
        "colab_type": "code",
        "colab": {}
      },
      "source": [
        "import numpy as np\n",
        "import pandas as pd"
      ],
      "execution_count": 0,
      "outputs": []
    },
    {
      "cell_type": "code",
      "metadata": {
        "id": "kaTw5VUyDtnF",
        "colab_type": "code",
        "colab": {
          "base_uri": "https://localhost:8080/",
          "height": 121
        },
        "outputId": "00796ef0-91b2-4b18-a4c0-99f6002ec89a"
      },
      "source": [
        "random = np.random.randint(0, 100, (5,5))\n",
        "print(random)\n",
        "df = pd.DataFrame(random)\n",
        "df.shape"
      ],
      "execution_count": 2,
      "outputs": [
        {
          "output_type": "stream",
          "text": [
            "[[56 21 28 69 34]\n",
            " [33 62 97  5  4]\n",
            " [98 49 95  5 52]\n",
            " [55 33 34 14 35]\n",
            " [26 22 42 39  5]]\n"
          ],
          "name": "stdout"
        },
        {
          "output_type": "execute_result",
          "data": {
            "text/plain": [
              "(5, 5)"
            ]
          },
          "metadata": {
            "tags": []
          },
          "execution_count": 2
        }
      ]
    },
    {
      "cell_type": "markdown",
      "metadata": {
        "id": "EEpwPXKyETTI",
        "colab_type": "text"
      },
      "source": [
        "answer: (5,5)"
      ]
    },
    {
      "cell_type": "markdown",
      "metadata": {
        "id": "Luz7LqxlD8o0",
        "colab_type": "text"
      },
      "source": [
        "# Question.2"
      ]
    },
    {
      "cell_type": "code",
      "metadata": {
        "id": "AqY4OaAzD6Ur",
        "colab_type": "code",
        "colab": {
          "base_uri": "https://localhost:8080/",
          "height": 156
        },
        "outputId": "6cedd6a6-1fe8-4fd2-dcdc-dceb8efa5b0d"
      },
      "source": [
        "random = np.random.randint(0, 100, (3,3))\n",
        "df = pd.DataFrame(random)\n",
        "\n",
        "print(df)\n",
        "df[2]"
      ],
      "execution_count": 12,
      "outputs": [
        {
          "output_type": "stream",
          "text": [
            "    0   1   2\n",
            "0  16  61  79\n",
            "1  66  62  20\n",
            "2  75  59  46\n"
          ],
          "name": "stdout"
        },
        {
          "output_type": "execute_result",
          "data": {
            "text/plain": [
              "0    79\n",
              "1    20\n",
              "2    46\n",
              "Name: 2, dtype: int64"
            ]
          },
          "metadata": {
            "tags": []
          },
          "execution_count": 12
        }
      ]
    },
    {
      "cell_type": "markdown",
      "metadata": {
        "id": "9aJDaFjEEV-V",
        "colab_type": "text"
      },
      "source": [
        "answer: A"
      ]
    },
    {
      "cell_type": "markdown",
      "metadata": {
        "id": "ehrxH9_nE4-6",
        "colab_type": "text"
      },
      "source": [
        "# Question.3"
      ]
    },
    {
      "cell_type": "code",
      "metadata": {
        "id": "npTu2UOOEX0x",
        "colab_type": "code",
        "colab": {
          "base_uri": "https://localhost:8080/",
          "height": 104
        },
        "outputId": "5bee17fb-6156-4fbc-8abd-09bc5c45c3c7"
      },
      "source": [
        "df = pd.DataFrame(np.random.randn(4,4))\n",
        "print(df)"
      ],
      "execution_count": 14,
      "outputs": [
        {
          "output_type": "stream",
          "text": [
            "          0         1         2         3\n",
            "0  0.645970 -0.056748  0.383005 -2.012013\n",
            "1  0.292343 -0.207021 -0.408709  1.224984\n",
            "2 -1.058769 -0.349021 -0.665479  0.577795\n",
            "3 -1.192558  0.756328  0.664285  0.576422\n"
          ],
          "name": "stdout"
        }
      ]
    },
    {
      "cell_type": "code",
      "metadata": {
        "id": "t8gVqWjoE-ZN",
        "colab_type": "code",
        "colab": {
          "base_uri": "https://localhost:8080/",
          "height": 104
        },
        "outputId": "7d24798f-c2cd-4d66-e57d-7cde7edd5096"
      },
      "source": [
        "df.loc[:, 1]"
      ],
      "execution_count": 15,
      "outputs": [
        {
          "output_type": "execute_result",
          "data": {
            "text/plain": [
              "0   -0.056748\n",
              "1   -0.207021\n",
              "2   -0.349021\n",
              "3    0.756328\n",
              "Name: 1, dtype: float64"
            ]
          },
          "metadata": {
            "tags": []
          },
          "execution_count": 15
        }
      ]
    },
    {
      "cell_type": "markdown",
      "metadata": {
        "id": "pdgBFBxoFHlh",
        "colab_type": "text"
      },
      "source": [
        "answer: A"
      ]
    },
    {
      "cell_type": "markdown",
      "metadata": {
        "id": "0JUfMKVeFQJT",
        "colab_type": "text"
      },
      "source": [
        "# Question.4"
      ]
    },
    {
      "cell_type": "code",
      "metadata": {
        "id": "CrUmmcrWFOQy",
        "colab_type": "code",
        "colab": {
          "base_uri": "https://localhost:8080/",
          "height": 121
        },
        "outputId": "fd006863-5505-47ef-96c7-a00dd608c919"
      },
      "source": [
        "df = pd.DataFrame(np.random.randint(1, 50, (5,5)))\n",
        "print(df)"
      ],
      "execution_count": 16,
      "outputs": [
        {
          "output_type": "stream",
          "text": [
            "    0   1   2   3   4\n",
            "0  37  46  13  14  19\n",
            "1  41  32  32  31  17\n",
            "2  28  15  41  18  39\n",
            "3   1  35  42  44  45\n",
            "4  44  45  28  29  37\n"
          ],
          "name": "stdout"
        }
      ]
    },
    {
      "cell_type": "code",
      "metadata": {
        "id": "KFeGHoVZFUwy",
        "colab_type": "code",
        "colab": {
          "base_uri": "https://localhost:8080/",
          "height": 69
        },
        "outputId": "e0e027d5-fa5f-4df6-b5af-5749f4960529"
      },
      "source": [
        "df.iloc[0:2, 4]"
      ],
      "execution_count": 17,
      "outputs": [
        {
          "output_type": "execute_result",
          "data": {
            "text/plain": [
              "0    19\n",
              "1    17\n",
              "Name: 4, dtype: int64"
            ]
          },
          "metadata": {
            "tags": []
          },
          "execution_count": 17
        }
      ]
    },
    {
      "cell_type": "markdown",
      "metadata": {
        "id": "awm0fZRBFg9M",
        "colab_type": "text"
      },
      "source": [
        "answer: D"
      ]
    },
    {
      "cell_type": "markdown",
      "metadata": {
        "id": "60HaXF7WFlo0",
        "colab_type": "text"
      },
      "source": [
        "# Question.5"
      ]
    },
    {
      "cell_type": "code",
      "metadata": {
        "id": "vcVxJ00GFk1F",
        "colab_type": "code",
        "colab": {
          "base_uri": "https://localhost:8080/",
          "height": 121
        },
        "outputId": "59a6f9bf-09b6-4631-bd77-688d297a955e"
      },
      "source": [
        "data = [[5, 37.0, 18.0, 4, 34],\n",
        "       [44, 9.0, 8.0, 25, 17],\n",
        "       [35, 45.0, np.nan, 11, 44],\n",
        "       [23, 7.0, 3.0, 31, 20],\n",
        "       [46, np.nan, np.nan, 17, 36]]\n",
        "df = pd.DataFrame(data=data)\n",
        "print(df)"
      ],
      "execution_count": 20,
      "outputs": [
        {
          "output_type": "stream",
          "text": [
            "    0     1     2   3   4\n",
            "0   5  37.0  18.0   4  34\n",
            "1  44   9.0   8.0  25  17\n",
            "2  35  45.0   NaN  11  44\n",
            "3  23   7.0   3.0  31  20\n",
            "4  46   NaN   NaN  17  36\n"
          ],
          "name": "stdout"
        }
      ]
    },
    {
      "cell_type": "code",
      "metadata": {
        "id": "Vf3L2Nc1GWji",
        "colab_type": "code",
        "colab": {
          "base_uri": "https://localhost:8080/",
          "height": 121
        },
        "outputId": "129ea995-ef62-4d06-d859-1096cf93e8d3"
      },
      "source": [
        "print(df.isnull())"
      ],
      "execution_count": 21,
      "outputs": [
        {
          "output_type": "stream",
          "text": [
            "       0      1      2      3      4\n",
            "0  False  False  False  False  False\n",
            "1  False  False  False  False  False\n",
            "2  False  False   True  False  False\n",
            "3  False  False  False  False  False\n",
            "4  False   True   True  False  False\n"
          ],
          "name": "stdout"
        }
      ]
    },
    {
      "cell_type": "code",
      "metadata": {
        "id": "07HWJrB1Gk4I",
        "colab_type": "code",
        "colab": {
          "base_uri": "https://localhost:8080/",
          "height": 121
        },
        "outputId": "e5c61965-8ef7-4c0a-956f-bc1a550862e0"
      },
      "source": [
        "print(df.isnull().sum())"
      ],
      "execution_count": 22,
      "outputs": [
        {
          "output_type": "stream",
          "text": [
            "0    0\n",
            "1    1\n",
            "2    2\n",
            "3    0\n",
            "4    0\n",
            "dtype: int64\n"
          ],
          "name": "stdout"
        }
      ]
    },
    {
      "cell_type": "markdown",
      "metadata": {
        "id": "BU03ZqrlGtRA",
        "colab_type": "text"
      },
      "source": [
        "answer: "
      ]
    },
    {
      "cell_type": "markdown",
      "metadata": {
        "id": "ern_q1I0GwZA",
        "colab_type": "text"
      },
      "source": [
        "# Question.6"
      ]
    },
    {
      "cell_type": "code",
      "metadata": {
        "id": "HvRDiEu7GngW",
        "colab_type": "code",
        "colab": {
          "base_uri": "https://localhost:8080/",
          "height": 121
        },
        "outputId": "a24996a5-788d-4ede-efe7-e15509f8194b"
      },
      "source": [
        "columns=['Class', 'Sex']\n",
        "index=['Satoshi', 'Ken', 'Jun', 'Tetsu', 'Yoshi']\n",
        "data=[['1-1', 'Male'],\n",
        "      ['1-5', 'Male'], \n",
        "      ['1-1', 'Male'],\n",
        "      ['1-2', 'Male'],\n",
        "      ['1-4', 'Male']]\n",
        "user = pd.DataFrame(data=data, index=index, columns=columns)\n",
        "print(user)"
      ],
      "execution_count": 23,
      "outputs": [
        {
          "output_type": "stream",
          "text": [
            "        Class   Sex\n",
            "Satoshi   1-1  Male\n",
            "Ken       1-5  Male\n",
            "Jun       1-1  Male\n",
            "Tetsu     1-2  Male\n",
            "Yoshi     1-4  Male\n"
          ],
          "name": "stdout"
        }
      ]
    },
    {
      "cell_type": "code",
      "metadata": {
        "id": "gcgMUCN4HV5M",
        "colab_type": "code",
        "colab": {
          "base_uri": "https://localhost:8080/",
          "height": 121
        },
        "outputId": "901af84e-0d57-4bbc-cac3-9a745461234f"
      },
      "source": [
        "columns=['Math', 'English', 'Chemistry', 'Physics', 'Music', 'id']\n",
        "data=[[1, 22, 39, 38, 36, 'AB'],\n",
        "      [13, 9, 44, 47, 40, 'AC'],\n",
        "      [21, 21, 43, 22, 48, 'DE'],\n",
        "      [28, 17, 19, 6, 32, 'ED'],\n",
        "      [28, 32, 34, 20, 37, 'ER']]\n",
        "kimatsu = pd.DataFrame(data=data, index=index, columns=columns)\n",
        "print(kimatsu)"
      ],
      "execution_count": 25,
      "outputs": [
        {
          "output_type": "stream",
          "text": [
            "         Math  English  Chemistry  Physics  Music  id\n",
            "Satoshi     1       22         39       38     36  AB\n",
            "Ken        13        9         44       47     40  AC\n",
            "Jun        21       21         43       22     48  DE\n",
            "Tetsu      28       17         19        6     32  ED\n",
            "Yoshi      28       32         34       20     37  ER\n"
          ],
          "name": "stdout"
        }
      ]
    },
    {
      "cell_type": "code",
      "metadata": {
        "id": "eowM1AL-H7KU",
        "colab_type": "code",
        "colab": {}
      },
      "source": [
        "student = pd.merge(kimatsu, user, right_index=True, left_index=True)"
      ],
      "execution_count": 0,
      "outputs": []
    },
    {
      "cell_type": "code",
      "metadata": {
        "id": "0EvuWtGCIov5",
        "colab_type": "code",
        "colab": {
          "base_uri": "https://localhost:8080/",
          "height": 121
        },
        "outputId": "f00ca191-b420-4e7b-c596-c9075b070a77"
      },
      "source": [
        "print(student)"
      ],
      "execution_count": 27,
      "outputs": [
        {
          "output_type": "stream",
          "text": [
            "         Math  English  Chemistry  Physics  Music  id Class   Sex\n",
            "Satoshi     1       22         39       38     36  AB   1-1  Male\n",
            "Ken        13        9         44       47     40  AC   1-5  Male\n",
            "Jun        21       21         43       22     48  DE   1-1  Male\n",
            "Tetsu      28       17         19        6     32  ED   1-2  Male\n",
            "Yoshi      28       32         34       20     37  ER   1-4  Male\n"
          ],
          "name": "stdout"
        }
      ]
    },
    {
      "cell_type": "code",
      "metadata": {
        "id": "lM7XZ7XZIqCV",
        "colab_type": "code",
        "colab": {}
      },
      "source": [
        "student = kimatsu.join(user)"
      ],
      "execution_count": 0,
      "outputs": []
    },
    {
      "cell_type": "code",
      "metadata": {
        "id": "aorvNxF1IsuX",
        "colab_type": "code",
        "colab": {
          "base_uri": "https://localhost:8080/",
          "height": 121
        },
        "outputId": "2fcd254f-4d73-4737-d475-947231100283"
      },
      "source": [
        "print(student)"
      ],
      "execution_count": 29,
      "outputs": [
        {
          "output_type": "stream",
          "text": [
            "         Math  English  Chemistry  Physics  Music  id Class   Sex\n",
            "Satoshi     1       22         39       38     36  AB   1-1  Male\n",
            "Ken        13        9         44       47     40  AC   1-5  Male\n",
            "Jun        21       21         43       22     48  DE   1-1  Male\n",
            "Tetsu      28       17         19        6     32  ED   1-2  Male\n",
            "Yoshi      28       32         34       20     37  ER   1-4  Male\n"
          ],
          "name": "stdout"
        }
      ]
    },
    {
      "cell_type": "markdown",
      "metadata": {
        "id": "y35iocI_IxS8",
        "colab_type": "text"
      },
      "source": [
        "answer: E"
      ]
    },
    {
      "cell_type": "code",
      "metadata": {
        "id": "fmdTxt-JIuRL",
        "colab_type": "code",
        "colab": {}
      },
      "source": [
        ""
      ],
      "execution_count": 0,
      "outputs": []
    }
  ]
}