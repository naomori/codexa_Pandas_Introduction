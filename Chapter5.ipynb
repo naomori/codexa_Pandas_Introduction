{
  "nbformat": 4,
  "nbformat_minor": 0,
  "metadata": {
    "colab": {
      "name": "Chapter5.ipynb",
      "version": "0.3.2",
      "provenance": [],
      "include_colab_link": true
    },
    "kernelspec": {
      "name": "python3",
      "display_name": "Python 3"
    }
  },
  "cells": [
    {
      "cell_type": "markdown",
      "metadata": {
        "id": "view-in-github",
        "colab_type": "text"
      },
      "source": [
        "<a href=\"https://colab.research.google.com/github/naomori/codexa_Pandas_Introduction/blob/master/Chapter5.ipynb\" target=\"_parent\"><img src=\"https://colab.research.google.com/assets/colab-badge.svg\" alt=\"Open In Colab\"/></a>"
      ]
    },
    {
      "cell_type": "markdown",
      "metadata": {
        "id": "fayQPeG_wBad",
        "colab_type": "text"
      },
      "source": [
        "# CSVデータの読み込み"
      ]
    },
    {
      "cell_type": "code",
      "metadata": {
        "id": "lgbZ8eshOkgK",
        "colab_type": "code",
        "colab": {
          "base_uri": "https://localhost:8080/",
          "height": 401
        },
        "outputId": "49864853-e2d7-43c6-d944-5293da095797"
      },
      "source": [
        "!wget https://www.codexa.net/wp-content/uploads/2017/12/002-1.csv\n",
        "!wget https://www.codexa.net/wp-content/uploads/2017/12/002-2.csv"
      ],
      "execution_count": 2,
      "outputs": [
        {
          "output_type": "stream",
          "text": [
            "--2019-07-26 03:02:42--  https://www.codexa.net/wp-content/uploads/2017/12/002-1.csv\n",
            "Resolving www.codexa.net (www.codexa.net)... 54.64.62.39, 13.115.61.79\n",
            "Connecting to www.codexa.net (www.codexa.net)|54.64.62.39|:443... connected.\n",
            "HTTP request sent, awaiting response... 200 OK\n",
            "Length: 3561 (3.5K) [application/octet-stream]\n",
            "Saving to: ‘002-1.csv’\n",
            "\n",
            "\r002-1.csv             0%[                    ]       0  --.-KB/s               \r002-1.csv           100%[===================>]   3.48K  --.-KB/s    in 0s      \n",
            "\n",
            "2019-07-26 03:02:43 (482 MB/s) - ‘002-1.csv’ saved [3561/3561]\n",
            "\n",
            "--2019-07-26 03:02:44--  https://www.codexa.net/wp-content/uploads/2017/12/002-2.csv\n",
            "Resolving www.codexa.net (www.codexa.net)... 54.64.62.39, 13.115.61.79\n",
            "Connecting to www.codexa.net (www.codexa.net)|54.64.62.39|:443... connected.\n",
            "HTTP request sent, awaiting response... 200 OK\n",
            "Length: 3428 (3.3K) [application/octet-stream]\n",
            "Saving to: ‘002-2.csv’\n",
            "\n",
            "002-2.csv           100%[===================>]   3.35K  --.-KB/s    in 0s      \n",
            "\n",
            "2019-07-26 03:02:44 (365 MB/s) - ‘002-2.csv’ saved [3428/3428]\n",
            "\n"
          ],
          "name": "stdout"
        }
      ]
    },
    {
      "cell_type": "code",
      "metadata": {
        "id": "iKcujEiuOwiP",
        "colab_type": "code",
        "colab": {}
      },
      "source": [
        "import numpy as np\n",
        "import matplotlib.pyplot as plt\n",
        "import pandas as pd"
      ],
      "execution_count": 0,
      "outputs": []
    },
    {
      "cell_type": "code",
      "metadata": {
        "id": "uDHMa5vFO6Av",
        "colab_type": "code",
        "colab": {
          "base_uri": "https://localhost:8080/",
          "height": 196
        },
        "outputId": "8d4a5a2b-7a3d-4507-b619-e4e4d4712392"
      },
      "source": [
        "df = pd.read_csv('002-1.csv')\n",
        "df.head()"
      ],
      "execution_count": 4,
      "outputs": [
        {
          "output_type": "execute_result",
          "data": {
            "text/html": [
              "<div>\n",
              "<style scoped>\n",
              "    .dataframe tbody tr th:only-of-type {\n",
              "        vertical-align: middle;\n",
              "    }\n",
              "\n",
              "    .dataframe tbody tr th {\n",
              "        vertical-align: top;\n",
              "    }\n",
              "\n",
              "    .dataframe thead th {\n",
              "        text-align: right;\n",
              "    }\n",
              "</style>\n",
              "<table border=\"1\" class=\"dataframe\">\n",
              "  <thead>\n",
              "    <tr style=\"text-align: right;\">\n",
              "      <th></th>\n",
              "      <th>0.563823406</th>\n",
              "      <th>0.926037583</th>\n",
              "      <th>0.564529862</th>\n",
              "    </tr>\n",
              "  </thead>\n",
              "  <tbody>\n",
              "    <tr>\n",
              "      <th>0</th>\n",
              "      <td>0.226930</td>\n",
              "      <td>0.774618</td>\n",
              "      <td>0.415330</td>\n",
              "    </tr>\n",
              "    <tr>\n",
              "      <th>1</th>\n",
              "      <td>0.993598</td>\n",
              "      <td>0.030036</td>\n",
              "      <td>0.210686</td>\n",
              "    </tr>\n",
              "    <tr>\n",
              "      <th>2</th>\n",
              "      <td>0.355566</td>\n",
              "      <td>0.824691</td>\n",
              "      <td>0.629814</td>\n",
              "    </tr>\n",
              "    <tr>\n",
              "      <th>3</th>\n",
              "      <td>0.784904</td>\n",
              "      <td>0.614295</td>\n",
              "      <td>0.127989</td>\n",
              "    </tr>\n",
              "    <tr>\n",
              "      <th>4</th>\n",
              "      <td>0.442514</td>\n",
              "      <td>0.163834</td>\n",
              "      <td>0.088494</td>\n",
              "    </tr>\n",
              "  </tbody>\n",
              "</table>\n",
              "</div>"
            ],
            "text/plain": [
              "   0.563823406  0.926037583  0.564529862\n",
              "0     0.226930     0.774618     0.415330\n",
              "1     0.993598     0.030036     0.210686\n",
              "2     0.355566     0.824691     0.629814\n",
              "3     0.784904     0.614295     0.127989\n",
              "4     0.442514     0.163834     0.088494"
            ]
          },
          "metadata": {
            "tags": []
          },
          "execution_count": 4
        }
      ]
    },
    {
      "cell_type": "markdown",
      "metadata": {
        "id": "KvOH_ojoPeUp",
        "colab_type": "text"
      },
      "source": [
        "一行目がカラム名として認識されてしまっているので、ヘッダなしとします。"
      ]
    },
    {
      "cell_type": "code",
      "metadata": {
        "id": "1YQ_Pr18PMyg",
        "colab_type": "code",
        "colab": {
          "base_uri": "https://localhost:8080/",
          "height": 196
        },
        "outputId": "deac63c8-3153-4f01-af47-c007311551c8"
      },
      "source": [
        "df = pd.read_csv('002-1.csv', header=None)\n",
        "df.head()"
      ],
      "execution_count": 6,
      "outputs": [
        {
          "output_type": "execute_result",
          "data": {
            "text/html": [
              "<div>\n",
              "<style scoped>\n",
              "    .dataframe tbody tr th:only-of-type {\n",
              "        vertical-align: middle;\n",
              "    }\n",
              "\n",
              "    .dataframe tbody tr th {\n",
              "        vertical-align: top;\n",
              "    }\n",
              "\n",
              "    .dataframe thead th {\n",
              "        text-align: right;\n",
              "    }\n",
              "</style>\n",
              "<table border=\"1\" class=\"dataframe\">\n",
              "  <thead>\n",
              "    <tr style=\"text-align: right;\">\n",
              "      <th></th>\n",
              "      <th>0</th>\n",
              "      <th>1</th>\n",
              "      <th>2</th>\n",
              "    </tr>\n",
              "  </thead>\n",
              "  <tbody>\n",
              "    <tr>\n",
              "      <th>0</th>\n",
              "      <td>0.563823</td>\n",
              "      <td>0.926038</td>\n",
              "      <td>0.564530</td>\n",
              "    </tr>\n",
              "    <tr>\n",
              "      <th>1</th>\n",
              "      <td>0.226930</td>\n",
              "      <td>0.774618</td>\n",
              "      <td>0.415330</td>\n",
              "    </tr>\n",
              "    <tr>\n",
              "      <th>2</th>\n",
              "      <td>0.993598</td>\n",
              "      <td>0.030036</td>\n",
              "      <td>0.210686</td>\n",
              "    </tr>\n",
              "    <tr>\n",
              "      <th>3</th>\n",
              "      <td>0.355566</td>\n",
              "      <td>0.824691</td>\n",
              "      <td>0.629814</td>\n",
              "    </tr>\n",
              "    <tr>\n",
              "      <th>4</th>\n",
              "      <td>0.784904</td>\n",
              "      <td>0.614295</td>\n",
              "      <td>0.127989</td>\n",
              "    </tr>\n",
              "  </tbody>\n",
              "</table>\n",
              "</div>"
            ],
            "text/plain": [
              "          0         1         2\n",
              "0  0.563823  0.926038  0.564530\n",
              "1  0.226930  0.774618  0.415330\n",
              "2  0.993598  0.030036  0.210686\n",
              "3  0.355566  0.824691  0.629814\n",
              "4  0.784904  0.614295  0.127989"
            ]
          },
          "metadata": {
            "tags": []
          },
          "execution_count": 6
        }
      ]
    },
    {
      "cell_type": "code",
      "metadata": {
        "id": "wGuEMb_ePwuR",
        "colab_type": "code",
        "colab": {
          "base_uri": "https://localhost:8080/",
          "height": 34
        },
        "outputId": "28e683ea-19d7-4544-cf83-4185df39119c"
      },
      "source": [
        "type(df)"
      ],
      "execution_count": 7,
      "outputs": [
        {
          "output_type": "execute_result",
          "data": {
            "text/plain": [
              "pandas.core.frame.DataFrame"
            ]
          },
          "metadata": {
            "tags": []
          },
          "execution_count": 7
        }
      ]
    },
    {
      "cell_type": "code",
      "metadata": {
        "id": "pLAGyQ0OP3GN",
        "colab_type": "code",
        "colab": {
          "base_uri": "https://localhost:8080/",
          "height": 156
        },
        "outputId": "8911feab-9749-45e3-8cee-5a1a7e016d85"
      },
      "source": [
        "df.info()"
      ],
      "execution_count": 8,
      "outputs": [
        {
          "output_type": "stream",
          "text": [
            "<class 'pandas.core.frame.DataFrame'>\n",
            "RangeIndex: 100 entries, 0 to 99\n",
            "Data columns (total 3 columns):\n",
            "0    100 non-null float64\n",
            "1    100 non-null float64\n",
            "2    100 non-null float64\n",
            "dtypes: float64(3)\n",
            "memory usage: 2.4 KB\n"
          ],
          "name": "stdout"
        }
      ]
    },
    {
      "cell_type": "code",
      "metadata": {
        "id": "-RSNCioNP6kV",
        "colab_type": "code",
        "colab": {
          "base_uri": "https://localhost:8080/",
          "height": 286
        },
        "outputId": "34c8fefa-5188-4eb0-a1bc-23a110883fc5"
      },
      "source": [
        "df.describe()"
      ],
      "execution_count": 9,
      "outputs": [
        {
          "output_type": "execute_result",
          "data": {
            "text/html": [
              "<div>\n",
              "<style scoped>\n",
              "    .dataframe tbody tr th:only-of-type {\n",
              "        vertical-align: middle;\n",
              "    }\n",
              "\n",
              "    .dataframe tbody tr th {\n",
              "        vertical-align: top;\n",
              "    }\n",
              "\n",
              "    .dataframe thead th {\n",
              "        text-align: right;\n",
              "    }\n",
              "</style>\n",
              "<table border=\"1\" class=\"dataframe\">\n",
              "  <thead>\n",
              "    <tr style=\"text-align: right;\">\n",
              "      <th></th>\n",
              "      <th>0</th>\n",
              "      <th>1</th>\n",
              "      <th>2</th>\n",
              "    </tr>\n",
              "  </thead>\n",
              "  <tbody>\n",
              "    <tr>\n",
              "      <th>count</th>\n",
              "      <td>100.000000</td>\n",
              "      <td>100.000000</td>\n",
              "      <td>100.000000</td>\n",
              "    </tr>\n",
              "    <tr>\n",
              "      <th>mean</th>\n",
              "      <td>0.460883</td>\n",
              "      <td>0.487668</td>\n",
              "      <td>0.507878</td>\n",
              "    </tr>\n",
              "    <tr>\n",
              "      <th>std</th>\n",
              "      <td>0.278284</td>\n",
              "      <td>0.306104</td>\n",
              "      <td>0.295137</td>\n",
              "    </tr>\n",
              "    <tr>\n",
              "      <th>min</th>\n",
              "      <td>0.008179</td>\n",
              "      <td>0.005217</td>\n",
              "      <td>0.012975</td>\n",
              "    </tr>\n",
              "    <tr>\n",
              "      <th>25%</th>\n",
              "      <td>0.221251</td>\n",
              "      <td>0.209450</td>\n",
              "      <td>0.202979</td>\n",
              "    </tr>\n",
              "    <tr>\n",
              "      <th>50%</th>\n",
              "      <td>0.428495</td>\n",
              "      <td>0.455401</td>\n",
              "      <td>0.548508</td>\n",
              "    </tr>\n",
              "    <tr>\n",
              "      <th>75%</th>\n",
              "      <td>0.700257</td>\n",
              "      <td>0.761196</td>\n",
              "      <td>0.808566</td>\n",
              "    </tr>\n",
              "    <tr>\n",
              "      <th>max</th>\n",
              "      <td>0.994047</td>\n",
              "      <td>0.999703</td>\n",
              "      <td>0.980560</td>\n",
              "    </tr>\n",
              "  </tbody>\n",
              "</table>\n",
              "</div>"
            ],
            "text/plain": [
              "                0           1           2\n",
              "count  100.000000  100.000000  100.000000\n",
              "mean     0.460883    0.487668    0.507878\n",
              "std      0.278284    0.306104    0.295137\n",
              "min      0.008179    0.005217    0.012975\n",
              "25%      0.221251    0.209450    0.202979\n",
              "50%      0.428495    0.455401    0.548508\n",
              "75%      0.700257    0.761196    0.808566\n",
              "max      0.994047    0.999703    0.980560"
            ]
          },
          "metadata": {
            "tags": []
          },
          "execution_count": 9
        }
      ]
    },
    {
      "cell_type": "code",
      "metadata": {
        "id": "DC8ITQBgueLp",
        "colab_type": "code",
        "colab": {}
      },
      "source": [
        "df2 = pd.read_csv('002-2.csv')"
      ],
      "execution_count": 0,
      "outputs": []
    },
    {
      "cell_type": "code",
      "metadata": {
        "id": "6TgS18ySuwyL",
        "colab_type": "code",
        "colab": {
          "base_uri": "https://localhost:8080/",
          "height": 196
        },
        "outputId": "59a48617-4346-4706-e2cf-7f183a4cbc19"
      },
      "source": [
        "df2.head()"
      ],
      "execution_count": 11,
      "outputs": [
        {
          "output_type": "execute_result",
          "data": {
            "text/html": [
              "<div>\n",
              "<style scoped>\n",
              "    .dataframe tbody tr th:only-of-type {\n",
              "        vertical-align: middle;\n",
              "    }\n",
              "\n",
              "    .dataframe tbody tr th {\n",
              "        vertical-align: top;\n",
              "    }\n",
              "\n",
              "    .dataframe thead th {\n",
              "        text-align: right;\n",
              "    }\n",
              "</style>\n",
              "<table border=\"1\" class=\"dataframe\">\n",
              "  <thead>\n",
              "    <tr style=\"text-align: right;\">\n",
              "      <th></th>\n",
              "      <th>Employee ID</th>\n",
              "      <th>Evaluation</th>\n",
              "      <th>Promotion</th>\n",
              "      <th>Salary in JPY (Date:2001-2017)</th>\n",
              "      <th>Quit</th>\n",
              "    </tr>\n",
              "  </thead>\n",
              "  <tbody>\n",
              "    <tr>\n",
              "      <th>0</th>\n",
              "      <td>565</td>\n",
              "      <td>0.1</td>\n",
              "      <td>1.0</td>\n",
              "      <td>Low</td>\n",
              "      <td>1.0</td>\n",
              "    </tr>\n",
              "    <tr>\n",
              "      <th>1</th>\n",
              "      <td>141</td>\n",
              "      <td>0.1</td>\n",
              "      <td>0.0</td>\n",
              "      <td>Low</td>\n",
              "      <td>1.0</td>\n",
              "    </tr>\n",
              "    <tr>\n",
              "      <th>2</th>\n",
              "      <td>786</td>\n",
              "      <td>0.6</td>\n",
              "      <td>1.0</td>\n",
              "      <td>Low</td>\n",
              "      <td>0.0</td>\n",
              "    </tr>\n",
              "    <tr>\n",
              "      <th>3</th>\n",
              "      <td>1770</td>\n",
              "      <td>1.0</td>\n",
              "      <td>1.0</td>\n",
              "      <td>Low</td>\n",
              "      <td>0.0</td>\n",
              "    </tr>\n",
              "    <tr>\n",
              "      <th>4</th>\n",
              "      <td>662</td>\n",
              "      <td>1.0</td>\n",
              "      <td>0.0</td>\n",
              "      <td>Low</td>\n",
              "      <td>0.0</td>\n",
              "    </tr>\n",
              "  </tbody>\n",
              "</table>\n",
              "</div>"
            ],
            "text/plain": [
              "  Employee ID  Evaluation  Promotion Salary in JPY (Date:2001-2017)  Quit\n",
              "0         565         0.1        1.0                            Low   1.0\n",
              "1         141         0.1        0.0                            Low   1.0\n",
              "2         786         0.6        1.0                            Low   0.0\n",
              "3        1770         1.0        1.0                            Low   0.0\n",
              "4         662         1.0        0.0                            Low   0.0"
            ]
          },
          "metadata": {
            "tags": []
          },
          "execution_count": 11
        }
      ]
    },
    {
      "cell_type": "code",
      "metadata": {
        "id": "6AFy0lbYuyvH",
        "colab_type": "code",
        "colab": {
          "base_uri": "https://localhost:8080/",
          "height": 34
        },
        "outputId": "009cddbe-4464-4ee2-8a0c-ac66815b8be7"
      },
      "source": [
        "df2.shape"
      ],
      "execution_count": 12,
      "outputs": [
        {
          "output_type": "execute_result",
          "data": {
            "text/plain": [
              "(201, 5)"
            ]
          },
          "metadata": {
            "tags": []
          },
          "execution_count": 12
        }
      ]
    },
    {
      "cell_type": "code",
      "metadata": {
        "id": "t8_1wUFuu8tt",
        "colab_type": "code",
        "colab": {
          "base_uri": "https://localhost:8080/",
          "height": 246
        },
        "outputId": "e7466772-9c5c-48c0-d317-9ae3b8a1cf22"
      },
      "source": [
        "df2.tail()"
      ],
      "execution_count": 13,
      "outputs": [
        {
          "output_type": "execute_result",
          "data": {
            "text/html": [
              "<div>\n",
              "<style scoped>\n",
              "    .dataframe tbody tr th:only-of-type {\n",
              "        vertical-align: middle;\n",
              "    }\n",
              "\n",
              "    .dataframe tbody tr th {\n",
              "        vertical-align: top;\n",
              "    }\n",
              "\n",
              "    .dataframe thead th {\n",
              "        text-align: right;\n",
              "    }\n",
              "</style>\n",
              "<table border=\"1\" class=\"dataframe\">\n",
              "  <thead>\n",
              "    <tr style=\"text-align: right;\">\n",
              "      <th></th>\n",
              "      <th>Employee ID</th>\n",
              "      <th>Evaluation</th>\n",
              "      <th>Promotion</th>\n",
              "      <th>Salary in JPY (Date:2001-2017)</th>\n",
              "      <th>Quit</th>\n",
              "    </tr>\n",
              "  </thead>\n",
              "  <tbody>\n",
              "    <tr>\n",
              "      <th>196</th>\n",
              "      <td>596</td>\n",
              "      <td>0.2</td>\n",
              "      <td>0.0</td>\n",
              "      <td>Mid</td>\n",
              "      <td>0.0</td>\n",
              "    </tr>\n",
              "    <tr>\n",
              "      <th>197</th>\n",
              "      <td>1729</td>\n",
              "      <td>0.1</td>\n",
              "      <td>0.0</td>\n",
              "      <td>Mid</td>\n",
              "      <td>0.0</td>\n",
              "    </tr>\n",
              "    <tr>\n",
              "      <th>198</th>\n",
              "      <td>1137</td>\n",
              "      <td>1.0</td>\n",
              "      <td>1.0</td>\n",
              "      <td>Mid</td>\n",
              "      <td>0.0</td>\n",
              "    </tr>\n",
              "    <tr>\n",
              "      <th>199</th>\n",
              "      <td>NaN</td>\n",
              "      <td>NaN</td>\n",
              "      <td>NaN</td>\n",
              "      <td>NaN</td>\n",
              "      <td>1.0</td>\n",
              "    </tr>\n",
              "    <tr>\n",
              "      <th>200</th>\n",
              "      <td>All employees data is collected annonimously, ...</td>\n",
              "      <td>NaN</td>\n",
              "      <td>NaN</td>\n",
              "      <td>NaN</td>\n",
              "      <td>NaN</td>\n",
              "    </tr>\n",
              "  </tbody>\n",
              "</table>\n",
              "</div>"
            ],
            "text/plain": [
              "                                           Employee ID  ...  Quit\n",
              "196                                                596  ...   0.0\n",
              "197                                               1729  ...   0.0\n",
              "198                                               1137  ...   0.0\n",
              "199                                                NaN  ...   1.0\n",
              "200  All employees data is collected annonimously, ...  ...   NaN\n",
              "\n",
              "[5 rows x 5 columns]"
            ]
          },
          "metadata": {
            "tags": []
          },
          "execution_count": 13
        }
      ]
    },
    {
      "cell_type": "markdown",
      "metadata": {
        "id": "SKnnJSf-vJm5",
        "colab_type": "text"
      },
      "source": [
        "199, 200 行について、データが空だったり、注釈が入っていたりする。\n",
        "データを読み込む際に、これらのデータを読み飛ばすようにする。\n",
        "skipfooter で２行を読み飛ばすことができる。"
      ]
    },
    {
      "cell_type": "code",
      "metadata": {
        "id": "bVlWc1JWvEMi",
        "colab_type": "code",
        "colab": {}
      },
      "source": [
        "df2 = pd.read_csv('002-2.csv', skipfooter=2, engine=\"python\")"
      ],
      "execution_count": 0,
      "outputs": []
    },
    {
      "cell_type": "code",
      "metadata": {
        "id": "F2g3fRJZvb-z",
        "colab_type": "code",
        "colab": {
          "base_uri": "https://localhost:8080/",
          "height": 196
        },
        "outputId": "d3caf77c-73e2-4c48-f850-d55c2f5fc5f9"
      },
      "source": [
        "df2.tail()"
      ],
      "execution_count": 18,
      "outputs": [
        {
          "output_type": "execute_result",
          "data": {
            "text/html": [
              "<div>\n",
              "<style scoped>\n",
              "    .dataframe tbody tr th:only-of-type {\n",
              "        vertical-align: middle;\n",
              "    }\n",
              "\n",
              "    .dataframe tbody tr th {\n",
              "        vertical-align: top;\n",
              "    }\n",
              "\n",
              "    .dataframe thead th {\n",
              "        text-align: right;\n",
              "    }\n",
              "</style>\n",
              "<table border=\"1\" class=\"dataframe\">\n",
              "  <thead>\n",
              "    <tr style=\"text-align: right;\">\n",
              "      <th></th>\n",
              "      <th>Employee ID</th>\n",
              "      <th>Evaluation</th>\n",
              "      <th>Promotion</th>\n",
              "      <th>Salary in JPY (Date:2001-2017)</th>\n",
              "      <th>Quit</th>\n",
              "    </tr>\n",
              "  </thead>\n",
              "  <tbody>\n",
              "    <tr>\n",
              "      <th>194</th>\n",
              "      <td>766</td>\n",
              "      <td>1.0</td>\n",
              "      <td>0</td>\n",
              "      <td>Mid</td>\n",
              "      <td>1</td>\n",
              "    </tr>\n",
              "    <tr>\n",
              "      <th>195</th>\n",
              "      <td>2350</td>\n",
              "      <td>0.0</td>\n",
              "      <td>0</td>\n",
              "      <td>Mid</td>\n",
              "      <td>1</td>\n",
              "    </tr>\n",
              "    <tr>\n",
              "      <th>196</th>\n",
              "      <td>596</td>\n",
              "      <td>0.2</td>\n",
              "      <td>0</td>\n",
              "      <td>Mid</td>\n",
              "      <td>0</td>\n",
              "    </tr>\n",
              "    <tr>\n",
              "      <th>197</th>\n",
              "      <td>1729</td>\n",
              "      <td>0.1</td>\n",
              "      <td>0</td>\n",
              "      <td>Mid</td>\n",
              "      <td>0</td>\n",
              "    </tr>\n",
              "    <tr>\n",
              "      <th>198</th>\n",
              "      <td>1137</td>\n",
              "      <td>1.0</td>\n",
              "      <td>1</td>\n",
              "      <td>Mid</td>\n",
              "      <td>0</td>\n",
              "    </tr>\n",
              "  </tbody>\n",
              "</table>\n",
              "</div>"
            ],
            "text/plain": [
              "     Employee ID  Evaluation  Promotion Salary in JPY (Date:2001-2017)  Quit\n",
              "194          766         1.0          0                            Mid     1\n",
              "195         2350         0.0          0                            Mid     1\n",
              "196          596         0.2          0                            Mid     0\n",
              "197         1729         0.1          0                            Mid     0\n",
              "198         1137         1.0          1                            Mid     0"
            ]
          },
          "metadata": {
            "tags": []
          },
          "execution_count": 18
        }
      ]
    },
    {
      "cell_type": "code",
      "metadata": {
        "id": "eIiM0hp5vdTB",
        "colab_type": "code",
        "colab": {
          "base_uri": "https://localhost:8080/",
          "height": 196
        },
        "outputId": "7e8806f6-9d7c-414b-f5a6-6ba277da35fb"
      },
      "source": [
        "df2.head()"
      ],
      "execution_count": 19,
      "outputs": [
        {
          "output_type": "execute_result",
          "data": {
            "text/html": [
              "<div>\n",
              "<style scoped>\n",
              "    .dataframe tbody tr th:only-of-type {\n",
              "        vertical-align: middle;\n",
              "    }\n",
              "\n",
              "    .dataframe tbody tr th {\n",
              "        vertical-align: top;\n",
              "    }\n",
              "\n",
              "    .dataframe thead th {\n",
              "        text-align: right;\n",
              "    }\n",
              "</style>\n",
              "<table border=\"1\" class=\"dataframe\">\n",
              "  <thead>\n",
              "    <tr style=\"text-align: right;\">\n",
              "      <th></th>\n",
              "      <th>Employee ID</th>\n",
              "      <th>Evaluation</th>\n",
              "      <th>Promotion</th>\n",
              "      <th>Salary in JPY (Date:2001-2017)</th>\n",
              "      <th>Quit</th>\n",
              "    </tr>\n",
              "  </thead>\n",
              "  <tbody>\n",
              "    <tr>\n",
              "      <th>0</th>\n",
              "      <td>565</td>\n",
              "      <td>0.1</td>\n",
              "      <td>1</td>\n",
              "      <td>Low</td>\n",
              "      <td>1</td>\n",
              "    </tr>\n",
              "    <tr>\n",
              "      <th>1</th>\n",
              "      <td>141</td>\n",
              "      <td>0.1</td>\n",
              "      <td>0</td>\n",
              "      <td>Low</td>\n",
              "      <td>1</td>\n",
              "    </tr>\n",
              "    <tr>\n",
              "      <th>2</th>\n",
              "      <td>786</td>\n",
              "      <td>0.6</td>\n",
              "      <td>1</td>\n",
              "      <td>Low</td>\n",
              "      <td>0</td>\n",
              "    </tr>\n",
              "    <tr>\n",
              "      <th>3</th>\n",
              "      <td>1770</td>\n",
              "      <td>1.0</td>\n",
              "      <td>1</td>\n",
              "      <td>Low</td>\n",
              "      <td>0</td>\n",
              "    </tr>\n",
              "    <tr>\n",
              "      <th>4</th>\n",
              "      <td>662</td>\n",
              "      <td>1.0</td>\n",
              "      <td>0</td>\n",
              "      <td>Low</td>\n",
              "      <td>0</td>\n",
              "    </tr>\n",
              "  </tbody>\n",
              "</table>\n",
              "</div>"
            ],
            "text/plain": [
              "   Employee ID  Evaluation  Promotion Salary in JPY (Date:2001-2017)  Quit\n",
              "0          565         0.1          1                            Low     1\n",
              "1          141         0.1          0                            Low     1\n",
              "2          786         0.6          1                            Low     0\n",
              "3         1770         1.0          1                            Low     0\n",
              "4          662         1.0          0                            Low     0"
            ]
          },
          "metadata": {
            "tags": []
          },
          "execution_count": 19
        }
      ]
    },
    {
      "cell_type": "code",
      "metadata": {
        "id": "6jZPDAQlvomM",
        "colab_type": "code",
        "colab": {
          "base_uri": "https://localhost:8080/",
          "height": 69
        },
        "outputId": "a64cb743-4e44-41a6-c991-a1b7131572d8"
      },
      "source": [
        "df2.columns"
      ],
      "execution_count": 20,
      "outputs": [
        {
          "output_type": "execute_result",
          "data": {
            "text/plain": [
              "Index(['Employee ID', 'Evaluation', 'Promotion',\n",
              "       'Salary in JPY (Date:2001-2017)', 'Quit'],\n",
              "      dtype='object')"
            ]
          },
          "metadata": {
            "tags": []
          },
          "execution_count": 20
        }
      ]
    },
    {
      "cell_type": "code",
      "metadata": {
        "id": "jBC5fuhnvtIz",
        "colab_type": "code",
        "colab": {
          "base_uri": "https://localhost:8080/",
          "height": 34
        },
        "outputId": "66e34918-eb85-4c11-a1af-10d655ee71d4"
      },
      "source": [
        "df2.index"
      ],
      "execution_count": 21,
      "outputs": [
        {
          "output_type": "execute_result",
          "data": {
            "text/plain": [
              "RangeIndex(start=0, stop=199, step=1)"
            ]
          },
          "metadata": {
            "tags": []
          },
          "execution_count": 21
        }
      ]
    },
    {
      "cell_type": "code",
      "metadata": {
        "id": "WmsLNLgXvvvU",
        "colab_type": "code",
        "colab": {}
      },
      "source": [
        "df2.columns = [\"ID\", \"Evaluation\", \"Promotion\", \"Salaray\", \"Quit\"]"
      ],
      "execution_count": 0,
      "outputs": []
    },
    {
      "cell_type": "code",
      "metadata": {
        "id": "uZCXaSuPv8FJ",
        "colab_type": "code",
        "colab": {
          "base_uri": "https://localhost:8080/",
          "height": 196
        },
        "outputId": "8add1e53-2825-4143-f7aa-792c8dbd92ba"
      },
      "source": [
        "df2.head()"
      ],
      "execution_count": 23,
      "outputs": [
        {
          "output_type": "execute_result",
          "data": {
            "text/html": [
              "<div>\n",
              "<style scoped>\n",
              "    .dataframe tbody tr th:only-of-type {\n",
              "        vertical-align: middle;\n",
              "    }\n",
              "\n",
              "    .dataframe tbody tr th {\n",
              "        vertical-align: top;\n",
              "    }\n",
              "\n",
              "    .dataframe thead th {\n",
              "        text-align: right;\n",
              "    }\n",
              "</style>\n",
              "<table border=\"1\" class=\"dataframe\">\n",
              "  <thead>\n",
              "    <tr style=\"text-align: right;\">\n",
              "      <th></th>\n",
              "      <th>ID</th>\n",
              "      <th>Evaluation</th>\n",
              "      <th>Promotion</th>\n",
              "      <th>Salaray</th>\n",
              "      <th>Quit</th>\n",
              "    </tr>\n",
              "  </thead>\n",
              "  <tbody>\n",
              "    <tr>\n",
              "      <th>0</th>\n",
              "      <td>565</td>\n",
              "      <td>0.1</td>\n",
              "      <td>1</td>\n",
              "      <td>Low</td>\n",
              "      <td>1</td>\n",
              "    </tr>\n",
              "    <tr>\n",
              "      <th>1</th>\n",
              "      <td>141</td>\n",
              "      <td>0.1</td>\n",
              "      <td>0</td>\n",
              "      <td>Low</td>\n",
              "      <td>1</td>\n",
              "    </tr>\n",
              "    <tr>\n",
              "      <th>2</th>\n",
              "      <td>786</td>\n",
              "      <td>0.6</td>\n",
              "      <td>1</td>\n",
              "      <td>Low</td>\n",
              "      <td>0</td>\n",
              "    </tr>\n",
              "    <tr>\n",
              "      <th>3</th>\n",
              "      <td>1770</td>\n",
              "      <td>1.0</td>\n",
              "      <td>1</td>\n",
              "      <td>Low</td>\n",
              "      <td>0</td>\n",
              "    </tr>\n",
              "    <tr>\n",
              "      <th>4</th>\n",
              "      <td>662</td>\n",
              "      <td>1.0</td>\n",
              "      <td>0</td>\n",
              "      <td>Low</td>\n",
              "      <td>0</td>\n",
              "    </tr>\n",
              "  </tbody>\n",
              "</table>\n",
              "</div>"
            ],
            "text/plain": [
              "     ID  Evaluation  Promotion Salaray  Quit\n",
              "0   565         0.1          1     Low     1\n",
              "1   141         0.1          0     Low     1\n",
              "2   786         0.6          1     Low     0\n",
              "3  1770         1.0          1     Low     0\n",
              "4   662         1.0          0     Low     0"
            ]
          },
          "metadata": {
            "tags": []
          },
          "execution_count": 23
        }
      ]
    },
    {
      "cell_type": "code",
      "metadata": {
        "id": "E7TUtdNQv8yv",
        "colab_type": "code",
        "colab": {}
      },
      "source": [
        "df2[\"Sex\"] = \"Male\""
      ],
      "execution_count": 0,
      "outputs": []
    },
    {
      "cell_type": "code",
      "metadata": {
        "id": "EzboU7pTwGHl",
        "colab_type": "code",
        "colab": {
          "base_uri": "https://localhost:8080/",
          "height": 196
        },
        "outputId": "64b3709c-34c3-47ab-b0c9-fd1e5e6ada32"
      },
      "source": [
        "df2.head()"
      ],
      "execution_count": 29,
      "outputs": [
        {
          "output_type": "execute_result",
          "data": {
            "text/html": [
              "<div>\n",
              "<style scoped>\n",
              "    .dataframe tbody tr th:only-of-type {\n",
              "        vertical-align: middle;\n",
              "    }\n",
              "\n",
              "    .dataframe tbody tr th {\n",
              "        vertical-align: top;\n",
              "    }\n",
              "\n",
              "    .dataframe thead th {\n",
              "        text-align: right;\n",
              "    }\n",
              "</style>\n",
              "<table border=\"1\" class=\"dataframe\">\n",
              "  <thead>\n",
              "    <tr style=\"text-align: right;\">\n",
              "      <th></th>\n",
              "      <th>ID</th>\n",
              "      <th>Evaluation</th>\n",
              "      <th>Promotion</th>\n",
              "      <th>Salaray</th>\n",
              "      <th>Quit</th>\n",
              "      <th>Sex</th>\n",
              "    </tr>\n",
              "  </thead>\n",
              "  <tbody>\n",
              "    <tr>\n",
              "      <th>0</th>\n",
              "      <td>565</td>\n",
              "      <td>0.1</td>\n",
              "      <td>1</td>\n",
              "      <td>Low</td>\n",
              "      <td>1</td>\n",
              "      <td>Male</td>\n",
              "    </tr>\n",
              "    <tr>\n",
              "      <th>1</th>\n",
              "      <td>141</td>\n",
              "      <td>0.1</td>\n",
              "      <td>0</td>\n",
              "      <td>Low</td>\n",
              "      <td>1</td>\n",
              "      <td>Male</td>\n",
              "    </tr>\n",
              "    <tr>\n",
              "      <th>2</th>\n",
              "      <td>786</td>\n",
              "      <td>0.6</td>\n",
              "      <td>1</td>\n",
              "      <td>Low</td>\n",
              "      <td>0</td>\n",
              "      <td>Male</td>\n",
              "    </tr>\n",
              "    <tr>\n",
              "      <th>3</th>\n",
              "      <td>1770</td>\n",
              "      <td>1.0</td>\n",
              "      <td>1</td>\n",
              "      <td>Low</td>\n",
              "      <td>0</td>\n",
              "      <td>Male</td>\n",
              "    </tr>\n",
              "    <tr>\n",
              "      <th>4</th>\n",
              "      <td>662</td>\n",
              "      <td>1.0</td>\n",
              "      <td>0</td>\n",
              "      <td>Low</td>\n",
              "      <td>0</td>\n",
              "      <td>Male</td>\n",
              "    </tr>\n",
              "  </tbody>\n",
              "</table>\n",
              "</div>"
            ],
            "text/plain": [
              "     ID  Evaluation  Promotion Salaray  Quit   Sex\n",
              "0   565         0.1          1     Low     1  Male\n",
              "1   141         0.1          0     Low     1  Male\n",
              "2   786         0.6          1     Low     0  Male\n",
              "3  1770         1.0          1     Low     0  Male\n",
              "4   662         1.0          0     Low     0  Male"
            ]
          },
          "metadata": {
            "tags": []
          },
          "execution_count": 29
        }
      ]
    },
    {
      "cell_type": "code",
      "metadata": {
        "id": "eCQOV5liwO1q",
        "colab_type": "code",
        "colab": {
          "base_uri": "https://localhost:8080/",
          "height": 644
        },
        "outputId": "21ed3575-fd92-4504-eaa7-e85a1629a7db"
      },
      "source": [
        "df2.head(20)"
      ],
      "execution_count": 30,
      "outputs": [
        {
          "output_type": "execute_result",
          "data": {
            "text/html": [
              "<div>\n",
              "<style scoped>\n",
              "    .dataframe tbody tr th:only-of-type {\n",
              "        vertical-align: middle;\n",
              "    }\n",
              "\n",
              "    .dataframe tbody tr th {\n",
              "        vertical-align: top;\n",
              "    }\n",
              "\n",
              "    .dataframe thead th {\n",
              "        text-align: right;\n",
              "    }\n",
              "</style>\n",
              "<table border=\"1\" class=\"dataframe\">\n",
              "  <thead>\n",
              "    <tr style=\"text-align: right;\">\n",
              "      <th></th>\n",
              "      <th>ID</th>\n",
              "      <th>Evaluation</th>\n",
              "      <th>Promotion</th>\n",
              "      <th>Salaray</th>\n",
              "      <th>Quit</th>\n",
              "      <th>Sex</th>\n",
              "    </tr>\n",
              "  </thead>\n",
              "  <tbody>\n",
              "    <tr>\n",
              "      <th>0</th>\n",
              "      <td>565</td>\n",
              "      <td>0.1</td>\n",
              "      <td>1</td>\n",
              "      <td>Low</td>\n",
              "      <td>1</td>\n",
              "      <td>Male</td>\n",
              "    </tr>\n",
              "    <tr>\n",
              "      <th>1</th>\n",
              "      <td>141</td>\n",
              "      <td>0.1</td>\n",
              "      <td>0</td>\n",
              "      <td>Low</td>\n",
              "      <td>1</td>\n",
              "      <td>Male</td>\n",
              "    </tr>\n",
              "    <tr>\n",
              "      <th>2</th>\n",
              "      <td>786</td>\n",
              "      <td>0.6</td>\n",
              "      <td>1</td>\n",
              "      <td>Low</td>\n",
              "      <td>0</td>\n",
              "      <td>Male</td>\n",
              "    </tr>\n",
              "    <tr>\n",
              "      <th>3</th>\n",
              "      <td>1770</td>\n",
              "      <td>1.0</td>\n",
              "      <td>1</td>\n",
              "      <td>Low</td>\n",
              "      <td>0</td>\n",
              "      <td>Male</td>\n",
              "    </tr>\n",
              "    <tr>\n",
              "      <th>4</th>\n",
              "      <td>662</td>\n",
              "      <td>1.0</td>\n",
              "      <td>0</td>\n",
              "      <td>Low</td>\n",
              "      <td>0</td>\n",
              "      <td>Male</td>\n",
              "    </tr>\n",
              "    <tr>\n",
              "      <th>5</th>\n",
              "      <td>1674</td>\n",
              "      <td>0.8</td>\n",
              "      <td>1</td>\n",
              "      <td>Low</td>\n",
              "      <td>0</td>\n",
              "      <td>Male</td>\n",
              "    </tr>\n",
              "    <tr>\n",
              "      <th>6</th>\n",
              "      <td>828</td>\n",
              "      <td>0.9</td>\n",
              "      <td>1</td>\n",
              "      <td>Low</td>\n",
              "      <td>1</td>\n",
              "      <td>Male</td>\n",
              "    </tr>\n",
              "    <tr>\n",
              "      <th>7</th>\n",
              "      <td>2287</td>\n",
              "      <td>0.9</td>\n",
              "      <td>1</td>\n",
              "      <td>Low</td>\n",
              "      <td>0</td>\n",
              "      <td>Male</td>\n",
              "    </tr>\n",
              "    <tr>\n",
              "      <th>8</th>\n",
              "      <td>1743</td>\n",
              "      <td>0.5</td>\n",
              "      <td>0</td>\n",
              "      <td>Low</td>\n",
              "      <td>0</td>\n",
              "      <td>Male</td>\n",
              "    </tr>\n",
              "    <tr>\n",
              "      <th>9</th>\n",
              "      <td>988</td>\n",
              "      <td>0.6</td>\n",
              "      <td>0</td>\n",
              "      <td>Low</td>\n",
              "      <td>0</td>\n",
              "      <td>Male</td>\n",
              "    </tr>\n",
              "    <tr>\n",
              "      <th>10</th>\n",
              "      <td>273</td>\n",
              "      <td>0.8</td>\n",
              "      <td>0</td>\n",
              "      <td>Low</td>\n",
              "      <td>1</td>\n",
              "      <td>Male</td>\n",
              "    </tr>\n",
              "    <tr>\n",
              "      <th>11</th>\n",
              "      <td>1993</td>\n",
              "      <td>0.5</td>\n",
              "      <td>0</td>\n",
              "      <td>Low</td>\n",
              "      <td>1</td>\n",
              "      <td>Male</td>\n",
              "    </tr>\n",
              "    <tr>\n",
              "      <th>12</th>\n",
              "      <td>1252</td>\n",
              "      <td>0.9</td>\n",
              "      <td>1</td>\n",
              "      <td>Low</td>\n",
              "      <td>0</td>\n",
              "      <td>Male</td>\n",
              "    </tr>\n",
              "    <tr>\n",
              "      <th>13</th>\n",
              "      <td>1349</td>\n",
              "      <td>0.7</td>\n",
              "      <td>1</td>\n",
              "      <td>Low</td>\n",
              "      <td>0</td>\n",
              "      <td>Male</td>\n",
              "    </tr>\n",
              "    <tr>\n",
              "      <th>14</th>\n",
              "      <td>825</td>\n",
              "      <td>0.3</td>\n",
              "      <td>1</td>\n",
              "      <td>Low</td>\n",
              "      <td>0</td>\n",
              "      <td>Male</td>\n",
              "    </tr>\n",
              "    <tr>\n",
              "      <th>15</th>\n",
              "      <td>110</td>\n",
              "      <td>1.0</td>\n",
              "      <td>0</td>\n",
              "      <td>Low</td>\n",
              "      <td>0</td>\n",
              "      <td>Male</td>\n",
              "    </tr>\n",
              "    <tr>\n",
              "      <th>16</th>\n",
              "      <td>2020</td>\n",
              "      <td>0.5</td>\n",
              "      <td>0</td>\n",
              "      <td>High</td>\n",
              "      <td>0</td>\n",
              "      <td>Male</td>\n",
              "    </tr>\n",
              "    <tr>\n",
              "      <th>17</th>\n",
              "      <td>1672</td>\n",
              "      <td>0.4</td>\n",
              "      <td>1</td>\n",
              "      <td>High</td>\n",
              "      <td>1</td>\n",
              "      <td>Male</td>\n",
              "    </tr>\n",
              "    <tr>\n",
              "      <th>18</th>\n",
              "      <td>767</td>\n",
              "      <td>0.4</td>\n",
              "      <td>1</td>\n",
              "      <td>High</td>\n",
              "      <td>1</td>\n",
              "      <td>Male</td>\n",
              "    </tr>\n",
              "    <tr>\n",
              "      <th>19</th>\n",
              "      <td>2218</td>\n",
              "      <td>0.3</td>\n",
              "      <td>1</td>\n",
              "      <td>High</td>\n",
              "      <td>0</td>\n",
              "      <td>Male</td>\n",
              "    </tr>\n",
              "  </tbody>\n",
              "</table>\n",
              "</div>"
            ],
            "text/plain": [
              "      ID  Evaluation  Promotion Salaray  Quit   Sex\n",
              "0    565         0.1          1     Low     1  Male\n",
              "1    141         0.1          0     Low     1  Male\n",
              "2    786         0.6          1     Low     0  Male\n",
              "3   1770         1.0          1     Low     0  Male\n",
              "4    662         1.0          0     Low     0  Male\n",
              "5   1674         0.8          1     Low     0  Male\n",
              "6    828         0.9          1     Low     1  Male\n",
              "7   2287         0.9          1     Low     0  Male\n",
              "8   1743         0.5          0     Low     0  Male\n",
              "9    988         0.6          0     Low     0  Male\n",
              "10   273         0.8          0     Low     1  Male\n",
              "11  1993         0.5          0     Low     1  Male\n",
              "12  1252         0.9          1     Low     0  Male\n",
              "13  1349         0.7          1     Low     0  Male\n",
              "14   825         0.3          1     Low     0  Male\n",
              "15   110         1.0          0     Low     0  Male\n",
              "16  2020         0.5          0    High     0  Male\n",
              "17  1672         0.4          1    High     1  Male\n",
              "18   767         0.4          1    High     1  Male\n",
              "19  2218         0.3          1    High     0  Male"
            ]
          },
          "metadata": {
            "tags": []
          },
          "execution_count": 30
        }
      ]
    },
    {
      "cell_type": "code",
      "metadata": {
        "id": "LGui_mVXwV82",
        "colab_type": "code",
        "colab": {
          "base_uri": "https://localhost:8080/",
          "height": 286
        },
        "outputId": "8f5e3606-4110-4985-dd13-9a42472a8f99"
      },
      "source": [
        "df2.describe()"
      ],
      "execution_count": 31,
      "outputs": [
        {
          "output_type": "execute_result",
          "data": {
            "text/html": [
              "<div>\n",
              "<style scoped>\n",
              "    .dataframe tbody tr th:only-of-type {\n",
              "        vertical-align: middle;\n",
              "    }\n",
              "\n",
              "    .dataframe tbody tr th {\n",
              "        vertical-align: top;\n",
              "    }\n",
              "\n",
              "    .dataframe thead th {\n",
              "        text-align: right;\n",
              "    }\n",
              "</style>\n",
              "<table border=\"1\" class=\"dataframe\">\n",
              "  <thead>\n",
              "    <tr style=\"text-align: right;\">\n",
              "      <th></th>\n",
              "      <th>ID</th>\n",
              "      <th>Evaluation</th>\n",
              "      <th>Promotion</th>\n",
              "      <th>Quit</th>\n",
              "    </tr>\n",
              "  </thead>\n",
              "  <tbody>\n",
              "    <tr>\n",
              "      <th>count</th>\n",
              "      <td>199.000000</td>\n",
              "      <td>199.000000</td>\n",
              "      <td>199.000000</td>\n",
              "      <td>199.000000</td>\n",
              "    </tr>\n",
              "    <tr>\n",
              "      <th>mean</th>\n",
              "      <td>1204.874372</td>\n",
              "      <td>0.474874</td>\n",
              "      <td>0.180905</td>\n",
              "      <td>0.547739</td>\n",
              "    </tr>\n",
              "    <tr>\n",
              "      <th>std</th>\n",
              "      <td>696.072589</td>\n",
              "      <td>0.322665</td>\n",
              "      <td>0.385910</td>\n",
              "      <td>0.498971</td>\n",
              "    </tr>\n",
              "    <tr>\n",
              "      <th>min</th>\n",
              "      <td>4.000000</td>\n",
              "      <td>0.000000</td>\n",
              "      <td>0.000000</td>\n",
              "      <td>0.000000</td>\n",
              "    </tr>\n",
              "    <tr>\n",
              "      <th>25%</th>\n",
              "      <td>601.500000</td>\n",
              "      <td>0.200000</td>\n",
              "      <td>0.000000</td>\n",
              "      <td>0.000000</td>\n",
              "    </tr>\n",
              "    <tr>\n",
              "      <th>50%</th>\n",
              "      <td>1146.000000</td>\n",
              "      <td>0.400000</td>\n",
              "      <td>0.000000</td>\n",
              "      <td>1.000000</td>\n",
              "    </tr>\n",
              "    <tr>\n",
              "      <th>75%</th>\n",
              "      <td>1839.500000</td>\n",
              "      <td>0.800000</td>\n",
              "      <td>0.000000</td>\n",
              "      <td>1.000000</td>\n",
              "    </tr>\n",
              "    <tr>\n",
              "      <th>max</th>\n",
              "      <td>2493.000000</td>\n",
              "      <td>1.000000</td>\n",
              "      <td>1.000000</td>\n",
              "      <td>1.000000</td>\n",
              "    </tr>\n",
              "  </tbody>\n",
              "</table>\n",
              "</div>"
            ],
            "text/plain": [
              "                ID  Evaluation   Promotion        Quit\n",
              "count   199.000000  199.000000  199.000000  199.000000\n",
              "mean   1204.874372    0.474874    0.180905    0.547739\n",
              "std     696.072589    0.322665    0.385910    0.498971\n",
              "min       4.000000    0.000000    0.000000    0.000000\n",
              "25%     601.500000    0.200000    0.000000    0.000000\n",
              "50%    1146.000000    0.400000    0.000000    1.000000\n",
              "75%    1839.500000    0.800000    0.000000    1.000000\n",
              "max    2493.000000    1.000000    1.000000    1.000000"
            ]
          },
          "metadata": {
            "tags": []
          },
          "execution_count": 31
        }
      ]
    },
    {
      "cell_type": "markdown",
      "metadata": {
        "id": "_0bh2VM3wog0",
        "colab_type": "text"
      },
      "source": [
        "df.corr()は相関関係を表す"
      ]
    },
    {
      "cell_type": "code",
      "metadata": {
        "id": "QAh3o1mEwd3Y",
        "colab_type": "code",
        "colab": {
          "base_uri": "https://localhost:8080/",
          "height": 166
        },
        "outputId": "0e078104-9b08-4737-f51d-ff5d68e99f51"
      },
      "source": [
        "df2.corr()"
      ],
      "execution_count": 32,
      "outputs": [
        {
          "output_type": "execute_result",
          "data": {
            "text/html": [
              "<div>\n",
              "<style scoped>\n",
              "    .dataframe tbody tr th:only-of-type {\n",
              "        vertical-align: middle;\n",
              "    }\n",
              "\n",
              "    .dataframe tbody tr th {\n",
              "        vertical-align: top;\n",
              "    }\n",
              "\n",
              "    .dataframe thead th {\n",
              "        text-align: right;\n",
              "    }\n",
              "</style>\n",
              "<table border=\"1\" class=\"dataframe\">\n",
              "  <thead>\n",
              "    <tr style=\"text-align: right;\">\n",
              "      <th></th>\n",
              "      <th>ID</th>\n",
              "      <th>Evaluation</th>\n",
              "      <th>Promotion</th>\n",
              "      <th>Quit</th>\n",
              "    </tr>\n",
              "  </thead>\n",
              "  <tbody>\n",
              "    <tr>\n",
              "      <th>ID</th>\n",
              "      <td>1.000000</td>\n",
              "      <td>-0.020596</td>\n",
              "      <td>0.119456</td>\n",
              "      <td>-0.118589</td>\n",
              "    </tr>\n",
              "    <tr>\n",
              "      <th>Evaluation</th>\n",
              "      <td>-0.020596</td>\n",
              "      <td>1.000000</td>\n",
              "      <td>0.231375</td>\n",
              "      <td>0.029446</td>\n",
              "    </tr>\n",
              "    <tr>\n",
              "      <th>Promotion</th>\n",
              "      <td>0.119456</td>\n",
              "      <td>0.231375</td>\n",
              "      <td>1.000000</td>\n",
              "      <td>-0.228676</td>\n",
              "    </tr>\n",
              "    <tr>\n",
              "      <th>Quit</th>\n",
              "      <td>-0.118589</td>\n",
              "      <td>0.029446</td>\n",
              "      <td>-0.228676</td>\n",
              "      <td>1.000000</td>\n",
              "    </tr>\n",
              "  </tbody>\n",
              "</table>\n",
              "</div>"
            ],
            "text/plain": [
              "                  ID  Evaluation  Promotion      Quit\n",
              "ID          1.000000   -0.020596   0.119456 -0.118589\n",
              "Evaluation -0.020596    1.000000   0.231375  0.029446\n",
              "Promotion   0.119456    0.231375   1.000000 -0.228676\n",
              "Quit       -0.118589    0.029446  -0.228676  1.000000"
            ]
          },
          "metadata": {
            "tags": []
          },
          "execution_count": 32
        }
      ]
    },
    {
      "cell_type": "code",
      "metadata": {
        "id": "7Kucad7YwsPv",
        "colab_type": "code",
        "colab": {}
      },
      "source": [
        "eva = df2.groupby('Evaluation')"
      ],
      "execution_count": 0,
      "outputs": []
    },
    {
      "cell_type": "code",
      "metadata": {
        "id": "eH1PN48Uw8mp",
        "colab_type": "code",
        "colab": {
          "base_uri": "https://localhost:8080/",
          "height": 34
        },
        "outputId": "768f42d9-59a7-45d3-9d6a-516abf35f3cd"
      },
      "source": [
        "type(eva)"
      ],
      "execution_count": 34,
      "outputs": [
        {
          "output_type": "execute_result",
          "data": {
            "text/plain": [
              "pandas.core.groupby.generic.DataFrameGroupBy"
            ]
          },
          "metadata": {
            "tags": []
          },
          "execution_count": 34
        }
      ]
    },
    {
      "cell_type": "markdown",
      "metadata": {
        "id": "TB8FbOyTw_fU",
        "colab_type": "text"
      },
      "source": [
        "DataFrameGroupBy は、グルービングによるデータを集計できる"
      ]
    },
    {
      "cell_type": "code",
      "metadata": {
        "id": "L1ZSKzaTw93D",
        "colab_type": "code",
        "colab": {
          "base_uri": "https://localhost:8080/",
          "height": 405
        },
        "outputId": "56547087-a7ea-4344-e304-6c237ed8a9e2"
      },
      "source": [
        "eva.mean()"
      ],
      "execution_count": 36,
      "outputs": [
        {
          "output_type": "execute_result",
          "data": {
            "text/html": [
              "<div>\n",
              "<style scoped>\n",
              "    .dataframe tbody tr th:only-of-type {\n",
              "        vertical-align: middle;\n",
              "    }\n",
              "\n",
              "    .dataframe tbody tr th {\n",
              "        vertical-align: top;\n",
              "    }\n",
              "\n",
              "    .dataframe thead th {\n",
              "        text-align: right;\n",
              "    }\n",
              "</style>\n",
              "<table border=\"1\" class=\"dataframe\">\n",
              "  <thead>\n",
              "    <tr style=\"text-align: right;\">\n",
              "      <th></th>\n",
              "      <th>ID</th>\n",
              "      <th>Promotion</th>\n",
              "      <th>Quit</th>\n",
              "    </tr>\n",
              "    <tr>\n",
              "      <th>Evaluation</th>\n",
              "      <th></th>\n",
              "      <th></th>\n",
              "      <th></th>\n",
              "    </tr>\n",
              "  </thead>\n",
              "  <tbody>\n",
              "    <tr>\n",
              "      <th>0.0</th>\n",
              "      <td>1306.666667</td>\n",
              "      <td>0.000000</td>\n",
              "      <td>0.555556</td>\n",
              "    </tr>\n",
              "    <tr>\n",
              "      <th>0.1</th>\n",
              "      <td>1189.466667</td>\n",
              "      <td>0.066667</td>\n",
              "      <td>0.666667</td>\n",
              "    </tr>\n",
              "    <tr>\n",
              "      <th>0.2</th>\n",
              "      <td>1102.656250</td>\n",
              "      <td>0.031250</td>\n",
              "      <td>0.718750</td>\n",
              "    </tr>\n",
              "    <tr>\n",
              "      <th>0.3</th>\n",
              "      <td>1296.157895</td>\n",
              "      <td>0.157895</td>\n",
              "      <td>0.368421</td>\n",
              "    </tr>\n",
              "    <tr>\n",
              "      <th>0.4</th>\n",
              "      <td>1265.230769</td>\n",
              "      <td>0.307692</td>\n",
              "      <td>0.307692</td>\n",
              "    </tr>\n",
              "    <tr>\n",
              "      <th>0.5</th>\n",
              "      <td>1390.692308</td>\n",
              "      <td>0.153846</td>\n",
              "      <td>0.153846</td>\n",
              "    </tr>\n",
              "    <tr>\n",
              "      <th>0.6</th>\n",
              "      <td>1343.294118</td>\n",
              "      <td>0.411765</td>\n",
              "      <td>0.235294</td>\n",
              "    </tr>\n",
              "    <tr>\n",
              "      <th>0.7</th>\n",
              "      <td>1128.300000</td>\n",
              "      <td>0.200000</td>\n",
              "      <td>0.400000</td>\n",
              "    </tr>\n",
              "    <tr>\n",
              "      <th>0.8</th>\n",
              "      <td>985.600000</td>\n",
              "      <td>0.333333</td>\n",
              "      <td>0.600000</td>\n",
              "    </tr>\n",
              "    <tr>\n",
              "      <th>0.9</th>\n",
              "      <td>1239.360000</td>\n",
              "      <td>0.280000</td>\n",
              "      <td>0.800000</td>\n",
              "    </tr>\n",
              "    <tr>\n",
              "      <th>1.0</th>\n",
              "      <td>1125.000000</td>\n",
              "      <td>0.187500</td>\n",
              "      <td>0.687500</td>\n",
              "    </tr>\n",
              "  </tbody>\n",
              "</table>\n",
              "</div>"
            ],
            "text/plain": [
              "                     ID  Promotion      Quit\n",
              "Evaluation                                  \n",
              "0.0         1306.666667   0.000000  0.555556\n",
              "0.1         1189.466667   0.066667  0.666667\n",
              "0.2         1102.656250   0.031250  0.718750\n",
              "0.3         1296.157895   0.157895  0.368421\n",
              "0.4         1265.230769   0.307692  0.307692\n",
              "0.5         1390.692308   0.153846  0.153846\n",
              "0.6         1343.294118   0.411765  0.235294\n",
              "0.7         1128.300000   0.200000  0.400000\n",
              "0.8          985.600000   0.333333  0.600000\n",
              "0.9         1239.360000   0.280000  0.800000\n",
              "1.0         1125.000000   0.187500  0.687500"
            ]
          },
          "metadata": {
            "tags": []
          },
          "execution_count": 36
        }
      ]
    },
    {
      "cell_type": "code",
      "metadata": {
        "id": "D7Fm34qexDtH",
        "colab_type": "code",
        "colab": {}
      },
      "source": [
        ""
      ],
      "execution_count": 0,
      "outputs": []
    }
  ]
}