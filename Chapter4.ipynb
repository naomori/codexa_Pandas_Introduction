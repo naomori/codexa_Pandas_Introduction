{
  "nbformat": 4,
  "nbformat_minor": 0,
  "metadata": {
    "colab": {
      "name": "Chapter4.ipynb",
      "version": "0.3.2",
      "provenance": [],
      "include_colab_link": true
    },
    "kernelspec": {
      "name": "python3",
      "display_name": "Python 3"
    }
  },
  "cells": [
    {
      "cell_type": "markdown",
      "metadata": {
        "id": "view-in-github",
        "colab_type": "text"
      },
      "source": [
        "<a href=\"https://colab.research.google.com/github/naomori/codexa_Pandas_Introduction/blob/master/Chapter4.ipynb\" target=\"_parent\"><img src=\"https://colab.research.google.com/assets/colab-badge.svg\" alt=\"Open In Colab\"/></a>"
      ]
    },
    {
      "cell_type": "markdown",
      "metadata": {
        "id": "Y3hMKcLANTJ5",
        "colab_type": "text"
      },
      "source": [
        "# データ構造を確認"
      ]
    },
    {
      "cell_type": "code",
      "metadata": {
        "id": "5hj6yFnPNRU3",
        "colab_type": "code",
        "colab": {}
      },
      "source": [
        "import numpy as np\n",
        "import pandas as pd"
      ],
      "execution_count": 0,
      "outputs": []
    },
    {
      "cell_type": "code",
      "metadata": {
        "id": "sfHbY4G8NZKw",
        "colab_type": "code",
        "colab": {
          "base_uri": "https://localhost:8080/",
          "height": 69
        },
        "outputId": "43fa8a24-e685-475e-81eb-903b9d7a6d5e"
      },
      "source": [
        "data = np.array([['81', '100', '69', '78', '95'],\n",
        "                 ['70', '93', '71', '82', '89']])\n",
        "columns = np.array(['A', 'B', 'C', 'D', 'E'])\n",
        "index = np.array(['Math', 'English'])\n",
        "df = pd.DataFrame(data=data, index=index, columns=columns)\n",
        "print(df)"
      ],
      "execution_count": 2,
      "outputs": [
        {
          "output_type": "stream",
          "text": [
            "          A    B   C   D   E\n",
            "Math     81  100  69  78  95\n",
            "English  70   93  71  82  89\n"
          ],
          "name": "stdout"
        }
      ]
    },
    {
      "cell_type": "code",
      "metadata": {
        "id": "Al_OasyPOJ7p",
        "colab_type": "code",
        "colab": {
          "base_uri": "https://localhost:8080/",
          "height": 34
        },
        "outputId": "669a0442-d93f-4551-be4d-dbd9254a8670"
      },
      "source": [
        "type(df)"
      ],
      "execution_count": 3,
      "outputs": [
        {
          "output_type": "execute_result",
          "data": {
            "text/plain": [
              "pandas.core.frame.DataFrame"
            ]
          },
          "metadata": {
            "tags": []
          },
          "execution_count": 3
        }
      ]
    },
    {
      "cell_type": "code",
      "metadata": {
        "id": "0UY7a7mpONL9",
        "colab_type": "code",
        "colab": {
          "base_uri": "https://localhost:8080/",
          "height": 34
        },
        "outputId": "6f99305a-84eb-472e-f497-f98fb9861145"
      },
      "source": [
        "df.shape"
      ],
      "execution_count": 4,
      "outputs": [
        {
          "output_type": "execute_result",
          "data": {
            "text/plain": [
              "(2, 5)"
            ]
          },
          "metadata": {
            "tags": []
          },
          "execution_count": 4
        }
      ]
    },
    {
      "cell_type": "code",
      "metadata": {
        "id": "VJd3QrSXOQfV",
        "colab_type": "code",
        "colab": {
          "base_uri": "https://localhost:8080/",
          "height": 191
        },
        "outputId": "5e531ea9-4b5c-41e1-9951-f2c07e8f2d7b"
      },
      "source": [
        "df.info()"
      ],
      "execution_count": 5,
      "outputs": [
        {
          "output_type": "stream",
          "text": [
            "<class 'pandas.core.frame.DataFrame'>\n",
            "Index: 2 entries, Math to English\n",
            "Data columns (total 5 columns):\n",
            "A    2 non-null object\n",
            "B    2 non-null object\n",
            "C    2 non-null object\n",
            "D    2 non-null object\n",
            "E    2 non-null object\n",
            "dtypes: object(5)\n",
            "memory usage: 96.0+ bytes\n"
          ],
          "name": "stdout"
        }
      ]
    },
    {
      "cell_type": "code",
      "metadata": {
        "id": "fyeIyOKKOX4a",
        "colab_type": "code",
        "colab": {}
      },
      "source": [
        "df = df.astype(int)"
      ],
      "execution_count": 0,
      "outputs": []
    },
    {
      "cell_type": "code",
      "metadata": {
        "id": "3K6WaAYtOmDm",
        "colab_type": "code",
        "colab": {
          "base_uri": "https://localhost:8080/",
          "height": 191
        },
        "outputId": "5d3e0b73-c738-4310-8900-fd1d49ad9284"
      },
      "source": [
        "df.info()"
      ],
      "execution_count": 7,
      "outputs": [
        {
          "output_type": "stream",
          "text": [
            "<class 'pandas.core.frame.DataFrame'>\n",
            "Index: 2 entries, Math to English\n",
            "Data columns (total 5 columns):\n",
            "A    2 non-null int64\n",
            "B    2 non-null int64\n",
            "C    2 non-null int64\n",
            "D    2 non-null int64\n",
            "E    2 non-null int64\n",
            "dtypes: int64(5)\n",
            "memory usage: 96.0+ bytes\n"
          ],
          "name": "stdout"
        }
      ]
    },
    {
      "cell_type": "markdown",
      "metadata": {
        "id": "XO1iSwUEOqdS",
        "colab_type": "text"
      },
      "source": [
        "# DataFrame.describe()\n",
        "基礎統計量を DataFrame.describe()で取得できる"
      ]
    },
    {
      "cell_type": "code",
      "metadata": {
        "id": "VgODfckWOnID",
        "colab_type": "code",
        "colab": {
          "base_uri": "https://localhost:8080/",
          "height": 286
        },
        "outputId": "bf349e3e-79ab-49f4-8a36-9a821cfd5adb"
      },
      "source": [
        "df.describe()"
      ],
      "execution_count": 9,
      "outputs": [
        {
          "output_type": "execute_result",
          "data": {
            "text/html": [
              "<div>\n",
              "<style scoped>\n",
              "    .dataframe tbody tr th:only-of-type {\n",
              "        vertical-align: middle;\n",
              "    }\n",
              "\n",
              "    .dataframe tbody tr th {\n",
              "        vertical-align: top;\n",
              "    }\n",
              "\n",
              "    .dataframe thead th {\n",
              "        text-align: right;\n",
              "    }\n",
              "</style>\n",
              "<table border=\"1\" class=\"dataframe\">\n",
              "  <thead>\n",
              "    <tr style=\"text-align: right;\">\n",
              "      <th></th>\n",
              "      <th>A</th>\n",
              "      <th>B</th>\n",
              "      <th>C</th>\n",
              "      <th>D</th>\n",
              "      <th>E</th>\n",
              "    </tr>\n",
              "  </thead>\n",
              "  <tbody>\n",
              "    <tr>\n",
              "      <th>count</th>\n",
              "      <td>2.000000</td>\n",
              "      <td>2.000000</td>\n",
              "      <td>2.000000</td>\n",
              "      <td>2.000000</td>\n",
              "      <td>2.000000</td>\n",
              "    </tr>\n",
              "    <tr>\n",
              "      <th>mean</th>\n",
              "      <td>75.500000</td>\n",
              "      <td>96.500000</td>\n",
              "      <td>70.000000</td>\n",
              "      <td>80.000000</td>\n",
              "      <td>92.000000</td>\n",
              "    </tr>\n",
              "    <tr>\n",
              "      <th>std</th>\n",
              "      <td>7.778175</td>\n",
              "      <td>4.949747</td>\n",
              "      <td>1.414214</td>\n",
              "      <td>2.828427</td>\n",
              "      <td>4.242641</td>\n",
              "    </tr>\n",
              "    <tr>\n",
              "      <th>min</th>\n",
              "      <td>70.000000</td>\n",
              "      <td>93.000000</td>\n",
              "      <td>69.000000</td>\n",
              "      <td>78.000000</td>\n",
              "      <td>89.000000</td>\n",
              "    </tr>\n",
              "    <tr>\n",
              "      <th>25%</th>\n",
              "      <td>72.750000</td>\n",
              "      <td>94.750000</td>\n",
              "      <td>69.500000</td>\n",
              "      <td>79.000000</td>\n",
              "      <td>90.500000</td>\n",
              "    </tr>\n",
              "    <tr>\n",
              "      <th>50%</th>\n",
              "      <td>75.500000</td>\n",
              "      <td>96.500000</td>\n",
              "      <td>70.000000</td>\n",
              "      <td>80.000000</td>\n",
              "      <td>92.000000</td>\n",
              "    </tr>\n",
              "    <tr>\n",
              "      <th>75%</th>\n",
              "      <td>78.250000</td>\n",
              "      <td>98.250000</td>\n",
              "      <td>70.500000</td>\n",
              "      <td>81.000000</td>\n",
              "      <td>93.500000</td>\n",
              "    </tr>\n",
              "    <tr>\n",
              "      <th>max</th>\n",
              "      <td>81.000000</td>\n",
              "      <td>100.000000</td>\n",
              "      <td>71.000000</td>\n",
              "      <td>82.000000</td>\n",
              "      <td>95.000000</td>\n",
              "    </tr>\n",
              "  </tbody>\n",
              "</table>\n",
              "</div>"
            ],
            "text/plain": [
              "               A           B          C          D          E\n",
              "count   2.000000    2.000000   2.000000   2.000000   2.000000\n",
              "mean   75.500000   96.500000  70.000000  80.000000  92.000000\n",
              "std     7.778175    4.949747   1.414214   2.828427   4.242641\n",
              "min    70.000000   93.000000  69.000000  78.000000  89.000000\n",
              "25%    72.750000   94.750000  69.500000  79.000000  90.500000\n",
              "50%    75.500000   96.500000  70.000000  80.000000  92.000000\n",
              "75%    78.250000   98.250000  70.500000  81.000000  93.500000\n",
              "max    81.000000  100.000000  71.000000  82.000000  95.000000"
            ]
          },
          "metadata": {
            "tags": []
          },
          "execution_count": 9
        }
      ]
    },
    {
      "cell_type": "markdown",
      "metadata": {
        "id": "QGZgzN_YO7Z2",
        "colab_type": "text"
      },
      "source": [
        "# データフレームの要素へのアクセス"
      ]
    },
    {
      "cell_type": "code",
      "metadata": {
        "id": "IBlnOuwUOo-Z",
        "colab_type": "code",
        "colab": {
          "base_uri": "https://localhost:8080/",
          "height": 69
        },
        "outputId": "17c7ecb8-adaa-4817-bf07-c6bb5101c514"
      },
      "source": [
        "print(df)"
      ],
      "execution_count": 10,
      "outputs": [
        {
          "output_type": "stream",
          "text": [
            "          A    B   C   D   E\n",
            "Math     81  100  69  78  95\n",
            "English  70   93  71  82  89\n"
          ],
          "name": "stdout"
        }
      ]
    },
    {
      "cell_type": "code",
      "metadata": {
        "id": "EEXkpbOFPBA3",
        "colab_type": "code",
        "colab": {
          "base_uri": "https://localhost:8080/",
          "height": 69
        },
        "outputId": "7bd700dc-57d8-4309-b785-86597bc38d93"
      },
      "source": [
        "df['A']"
      ],
      "execution_count": 11,
      "outputs": [
        {
          "output_type": "execute_result",
          "data": {
            "text/plain": [
              "Math       81\n",
              "English    70\n",
              "Name: A, dtype: int64"
            ]
          },
          "metadata": {
            "tags": []
          },
          "execution_count": 11
        }
      ]
    },
    {
      "cell_type": "markdown",
      "metadata": {
        "id": "PuNjT3soPLra",
        "colab_type": "text"
      },
      "source": [
        "２次元から１次元になっているので Series になっている"
      ]
    },
    {
      "cell_type": "code",
      "metadata": {
        "id": "k9E7WMuxPDEU",
        "colab_type": "code",
        "colab": {
          "base_uri": "https://localhost:8080/",
          "height": 34
        },
        "outputId": "79eb0b6d-b28e-4ef2-adf1-0fe4e1e3d225"
      },
      "source": [
        "type(df['A'])"
      ],
      "execution_count": 12,
      "outputs": [
        {
          "output_type": "execute_result",
          "data": {
            "text/plain": [
              "pandas.core.series.Series"
            ]
          },
          "metadata": {
            "tags": []
          },
          "execution_count": 12
        }
      ]
    },
    {
      "cell_type": "markdown",
      "metadata": {
        "id": "8PvFwSM_PRTj",
        "colab_type": "text"
      },
      "source": [
        "カラム名を直接指定できるが、カラム名にスペースが入っていると使えない"
      ]
    },
    {
      "cell_type": "code",
      "metadata": {
        "id": "_-jFEl97PKbN",
        "colab_type": "code",
        "colab": {
          "base_uri": "https://localhost:8080/",
          "height": 69
        },
        "outputId": "53343fc4-ac4e-4fcd-d5bd-f65e21831ced"
      },
      "source": [
        "df.A"
      ],
      "execution_count": 14,
      "outputs": [
        {
          "output_type": "execute_result",
          "data": {
            "text/plain": [
              "Math       81\n",
              "English    70\n",
              "Name: A, dtype: int64"
            ]
          },
          "metadata": {
            "tags": []
          },
          "execution_count": 14
        }
      ]
    },
    {
      "cell_type": "markdown",
      "metadata": {
        "id": "FiU3FmjAPadt",
        "colab_type": "text"
      },
      "source": [
        "データフレームの行・列のラベル名（index, columns）で指定"
      ]
    },
    {
      "cell_type": "code",
      "metadata": {
        "id": "cGzUKskRPP9C",
        "colab_type": "code",
        "colab": {
          "base_uri": "https://localhost:8080/",
          "height": 107
        },
        "outputId": "a881050a-481a-4984-8c1e-c4a9e630bc08"
      },
      "source": [
        "df.loc[:, ['A']]"
      ],
      "execution_count": 16,
      "outputs": [
        {
          "output_type": "execute_result",
          "data": {
            "text/html": [
              "<div>\n",
              "<style scoped>\n",
              "    .dataframe tbody tr th:only-of-type {\n",
              "        vertical-align: middle;\n",
              "    }\n",
              "\n",
              "    .dataframe tbody tr th {\n",
              "        vertical-align: top;\n",
              "    }\n",
              "\n",
              "    .dataframe thead th {\n",
              "        text-align: right;\n",
              "    }\n",
              "</style>\n",
              "<table border=\"1\" class=\"dataframe\">\n",
              "  <thead>\n",
              "    <tr style=\"text-align: right;\">\n",
              "      <th></th>\n",
              "      <th>A</th>\n",
              "    </tr>\n",
              "  </thead>\n",
              "  <tbody>\n",
              "    <tr>\n",
              "      <th>Math</th>\n",
              "      <td>81</td>\n",
              "    </tr>\n",
              "    <tr>\n",
              "      <th>English</th>\n",
              "      <td>70</td>\n",
              "    </tr>\n",
              "  </tbody>\n",
              "</table>\n",
              "</div>"
            ],
            "text/plain": [
              "          A\n",
              "Math     81\n",
              "English  70"
            ]
          },
          "metadata": {
            "tags": []
          },
          "execution_count": 16
        }
      ]
    },
    {
      "cell_type": "code",
      "metadata": {
        "id": "aFfmnGGJPndh",
        "colab_type": "code",
        "colab": {
          "base_uri": "https://localhost:8080/",
          "height": 69
        },
        "outputId": "a7a307f3-5569-4e05-99ab-6ab88f822036"
      },
      "source": [
        "df.loc['Math', ['A', 'C']]"
      ],
      "execution_count": 17,
      "outputs": [
        {
          "output_type": "execute_result",
          "data": {
            "text/plain": [
              "A    81\n",
              "C    69\n",
              "Name: Math, dtype: int64"
            ]
          },
          "metadata": {
            "tags": []
          },
          "execution_count": 17
        }
      ]
    },
    {
      "cell_type": "markdown",
      "metadata": {
        "id": "gVO_WeqzP6St",
        "colab_type": "text"
      },
      "source": [
        "行番号と列番号でアクセスする"
      ]
    },
    {
      "cell_type": "code",
      "metadata": {
        "id": "0vsge4WvPxmk",
        "colab_type": "code",
        "colab": {
          "base_uri": "https://localhost:8080/",
          "height": 121
        },
        "outputId": "4cf9bd4a-18ea-477f-afbe-5678e48dc45f"
      },
      "source": [
        "df.iloc[0]"
      ],
      "execution_count": 18,
      "outputs": [
        {
          "output_type": "execute_result",
          "data": {
            "text/plain": [
              "A     81\n",
              "B    100\n",
              "C     69\n",
              "D     78\n",
              "E     95\n",
              "Name: Math, dtype: int64"
            ]
          },
          "metadata": {
            "tags": []
          },
          "execution_count": 18
        }
      ]
    },
    {
      "cell_type": "code",
      "metadata": {
        "id": "mhaZiwsbP-N9",
        "colab_type": "code",
        "colab": {
          "base_uri": "https://localhost:8080/",
          "height": 121
        },
        "outputId": "24f18182-deb6-4ead-aa49-0edb087fc541"
      },
      "source": [
        "df.iloc[1]"
      ],
      "execution_count": 20,
      "outputs": [
        {
          "output_type": "execute_result",
          "data": {
            "text/plain": [
              "A    70\n",
              "B    93\n",
              "C    71\n",
              "D    82\n",
              "E    89\n",
              "Name: English, dtype: int64"
            ]
          },
          "metadata": {
            "tags": []
          },
          "execution_count": 20
        }
      ]
    },
    {
      "cell_type": "code",
      "metadata": {
        "id": "bJy3RIaCQDp2",
        "colab_type": "code",
        "colab": {
          "base_uri": "https://localhost:8080/",
          "height": 52
        },
        "outputId": "37155c54-47b3-4279-bffa-f44dc541c935"
      },
      "source": [
        "df.iloc[0, [0]]"
      ],
      "execution_count": 24,
      "outputs": [
        {
          "output_type": "execute_result",
          "data": {
            "text/plain": [
              "A    81\n",
              "Name: Math, dtype: int64"
            ]
          },
          "metadata": {
            "tags": []
          },
          "execution_count": 24
        }
      ]
    },
    {
      "cell_type": "code",
      "metadata": {
        "id": "QfvLtt3tQL68",
        "colab_type": "code",
        "colab": {
          "base_uri": "https://localhost:8080/",
          "height": 107
        },
        "outputId": "7b81d967-007b-42d5-bfd3-fc4443d5e0e3"
      },
      "source": [
        "df.iloc[:, 0:3]"
      ],
      "execution_count": 25,
      "outputs": [
        {
          "output_type": "execute_result",
          "data": {
            "text/html": [
              "<div>\n",
              "<style scoped>\n",
              "    .dataframe tbody tr th:only-of-type {\n",
              "        vertical-align: middle;\n",
              "    }\n",
              "\n",
              "    .dataframe tbody tr th {\n",
              "        vertical-align: top;\n",
              "    }\n",
              "\n",
              "    .dataframe thead th {\n",
              "        text-align: right;\n",
              "    }\n",
              "</style>\n",
              "<table border=\"1\" class=\"dataframe\">\n",
              "  <thead>\n",
              "    <tr style=\"text-align: right;\">\n",
              "      <th></th>\n",
              "      <th>A</th>\n",
              "      <th>B</th>\n",
              "      <th>C</th>\n",
              "    </tr>\n",
              "  </thead>\n",
              "  <tbody>\n",
              "    <tr>\n",
              "      <th>Math</th>\n",
              "      <td>81</td>\n",
              "      <td>100</td>\n",
              "      <td>69</td>\n",
              "    </tr>\n",
              "    <tr>\n",
              "      <th>English</th>\n",
              "      <td>70</td>\n",
              "      <td>93</td>\n",
              "      <td>71</td>\n",
              "    </tr>\n",
              "  </tbody>\n",
              "</table>\n",
              "</div>"
            ],
            "text/plain": [
              "          A    B   C\n",
              "Math     81  100  69\n",
              "English  70   93  71"
            ]
          },
          "metadata": {
            "tags": []
          },
          "execution_count": 25
        }
      ]
    },
    {
      "cell_type": "code",
      "metadata": {
        "id": "H3cTk_NkQUcn",
        "colab_type": "code",
        "colab": {
          "base_uri": "https://localhost:8080/",
          "height": 104
        },
        "outputId": "8c3275ab-fa22-4000-ef75-cace38faa9aa"
      },
      "source": [
        "df.iloc[0, 0:4]"
      ],
      "execution_count": 26,
      "outputs": [
        {
          "output_type": "execute_result",
          "data": {
            "text/plain": [
              "A     81\n",
              "B    100\n",
              "C     69\n",
              "D     78\n",
              "Name: Math, dtype: int64"
            ]
          },
          "metadata": {
            "tags": []
          },
          "execution_count": 26
        }
      ]
    },
    {
      "cell_type": "code",
      "metadata": {
        "id": "O66aBQMJQdcH",
        "colab_type": "code",
        "colab": {}
      },
      "source": [
        "  "
      ],
      "execution_count": 0,
      "outputs": []
    }
  ]
}