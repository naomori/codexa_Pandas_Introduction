{
  "nbformat": 4,
  "nbformat_minor": 0,
  "metadata": {
    "colab": {
      "name": "Chapter3.ipynb",
      "version": "0.3.2",
      "provenance": [],
      "include_colab_link": true
    },
    "kernelspec": {
      "name": "python3",
      "display_name": "Python 3"
    }
  },
  "cells": [
    {
      "cell_type": "markdown",
      "metadata": {
        "id": "view-in-github",
        "colab_type": "text"
      },
      "source": [
        "<a href=\"https://colab.research.google.com/github/naomori/codexa_Pandas_Introduction/blob/master/Chapter3.ipynb\" target=\"_parent\"><img src=\"https://colab.research.google.com/assets/colab-badge.svg\" alt=\"Open In Colab\"/></a>"
      ]
    },
    {
      "cell_type": "markdown",
      "metadata": {
        "id": "R0RtWCepKm4M",
        "colab_type": "text"
      },
      "source": [
        "# Pandas とは？\n",
        "\n",
        "* データ解析を支援する Python ライブラリ\n",
        "* Pandas には DataFrame, Series がある\n",
        "\n",
        "# Pandas DataFrame とは？\n",
        "\n",
        "* データを表形式（行列）にして保存することで扱いやすくなる\n",
        "* ２次元のデータで「値」、「インデックス」、「列」\n",
        "で構成\n",
        "* 要素には、数値のみでなく文字列を入れることも可能\n",
        "\n",
        "# Pandas Series とは？\n",
        "\n",
        "* １次元の配列で DataFrame と同様にインデックスを持つ\n",
        "* 要素には、数値のみでなく文字列を入れることも可能"
      ]
    },
    {
      "cell_type": "code",
      "metadata": {
        "id": "rsXLgASMKlWo",
        "colab_type": "code",
        "colab": {}
      },
      "source": [
        "import numpy as np\n",
        "import pandas as pd"
      ],
      "execution_count": 0,
      "outputs": []
    },
    {
      "cell_type": "code",
      "metadata": {
        "id": "6X3Xey69L5Ee",
        "colab_type": "code",
        "colab": {}
      },
      "source": [
        "body = np.array([[182,169,190,178,176], [81,59,87,72,79]])"
      ],
      "execution_count": 0,
      "outputs": []
    },
    {
      "cell_type": "code",
      "metadata": {
        "id": "SzjSkV4ZMClq",
        "colab_type": "code",
        "colab": {
          "base_uri": "https://localhost:8080/",
          "height": 69
        },
        "outputId": "23efe9b8-3565-47bf-df74-774b1a35ab12"
      },
      "source": [
        "df = pd.DataFrame(body)\n",
        "print(df)"
      ],
      "execution_count": 9,
      "outputs": [
        {
          "output_type": "stream",
          "text": [
            "     0    1    2    3    4\n",
            "0  182  169  190  178  176\n",
            "1   81   59   87   72   79\n"
          ],
          "name": "stdout"
        }
      ]
    },
    {
      "cell_type": "code",
      "metadata": {
        "id": "CeIeLJlwMIvJ",
        "colab_type": "code",
        "colab": {
          "base_uri": "https://localhost:8080/",
          "height": 34
        },
        "outputId": "559e7a1c-3744-44d0-9ab4-4d802c5530b3"
      },
      "source": [
        "type(body)"
      ],
      "execution_count": 10,
      "outputs": [
        {
          "output_type": "execute_result",
          "data": {
            "text/plain": [
              "numpy.ndarray"
            ]
          },
          "metadata": {
            "tags": []
          },
          "execution_count": 10
        }
      ]
    },
    {
      "cell_type": "code",
      "metadata": {
        "id": "7Na15k7HMM_7",
        "colab_type": "code",
        "colab": {
          "base_uri": "https://localhost:8080/",
          "height": 34
        },
        "outputId": "41eefd43-7609-4b95-ef5a-731043b180ab"
      },
      "source": [
        "type(df)"
      ],
      "execution_count": 11,
      "outputs": [
        {
          "output_type": "execute_result",
          "data": {
            "text/plain": [
              "pandas.core.frame.DataFrame"
            ]
          },
          "metadata": {
            "tags": []
          },
          "execution_count": 11
        }
      ]
    },
    {
      "cell_type": "code",
      "metadata": {
        "id": "x-6LVRWTMPgy",
        "colab_type": "code",
        "colab": {
          "base_uri": "https://localhost:8080/",
          "height": 69
        },
        "outputId": "64916a28-ee66-49c2-ca16-afd7751739e0"
      },
      "source": [
        "df.columns = ['Jun', 'Taka', 'Tetsu', 'Ken', 'Kazu']\n",
        "print(df)"
      ],
      "execution_count": 12,
      "outputs": [
        {
          "output_type": "stream",
          "text": [
            "   Jun  Taka  Tetsu  Ken  Kazu\n",
            "0  182   169    190  178   176\n",
            "1   81    59     87   72    79\n"
          ],
          "name": "stdout"
        }
      ]
    },
    {
      "cell_type": "code",
      "metadata": {
        "id": "0pMYrB2jMihb",
        "colab_type": "code",
        "colab": {
          "base_uri": "https://localhost:8080/",
          "height": 69
        },
        "outputId": "a9172b21-ff7c-484e-c9ee-e1c9367d032b"
      },
      "source": [
        "df.index = ['Height', 'Weight']\n",
        "print(df)"
      ],
      "execution_count": 13,
      "outputs": [
        {
          "output_type": "stream",
          "text": [
            "        Jun  Taka  Tetsu  Ken  Kazu\n",
            "Height  182   169    190  178   176\n",
            "Weight   81    59     87   72    79\n"
          ],
          "name": "stdout"
        }
      ]
    },
    {
      "cell_type": "markdown",
      "metadata": {
        "id": "U1g2j90lM___",
        "colab_type": "text"
      },
      "source": [
        "後でカラム名を変更することもできる。"
      ]
    },
    {
      "cell_type": "code",
      "metadata": {
        "id": "AsCQi1ZJMqhZ",
        "colab_type": "code",
        "colab": {}
      },
      "source": [
        "df = df.rename(columns={'Jun':'Hikari'})"
      ],
      "execution_count": 0,
      "outputs": []
    },
    {
      "cell_type": "code",
      "metadata": {
        "id": "oRoeuf7NM10A",
        "colab_type": "code",
        "colab": {
          "base_uri": "https://localhost:8080/",
          "height": 69
        },
        "outputId": "e630abbd-3889-4d20-f11d-f7c01929a807"
      },
      "source": [
        "print(df)"
      ],
      "execution_count": 19,
      "outputs": [
        {
          "output_type": "stream",
          "text": [
            "        Hikari  Taka  Tetsu  Ken  Kazu\n",
            "Height     182   169    190  178   176\n",
            "Weight      81    59     87   72    79\n"
          ],
          "name": "stdout"
        }
      ]
    },
    {
      "cell_type": "code",
      "metadata": {
        "id": "-URSMqdLM9g3",
        "colab_type": "code",
        "colab": {}
      },
      "source": [
        ""
      ],
      "execution_count": 0,
      "outputs": []
    }
  ]
}