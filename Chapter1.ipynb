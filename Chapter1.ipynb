{
  "nbformat": 4,
  "nbformat_minor": 0,
  "metadata": {
    "colab": {
      "name": "Chapter1.ipynb",
      "version": "0.3.2",
      "provenance": [],
      "include_colab_link": true
    },
    "kernelspec": {
      "name": "python3",
      "display_name": "Python 3"
    }
  },
  "cells": [
    {
      "cell_type": "markdown",
      "metadata": {
        "id": "view-in-github",
        "colab_type": "text"
      },
      "source": [
        "<a href=\"https://colab.research.google.com/github/naomori/codexa_Pandas_Introduction/blob/master/Chapter1.ipynb\" target=\"_parent\"><img src=\"https://colab.research.google.com/assets/colab-badge.svg\" alt=\"Open In Colab\"/></a>"
      ]
    },
    {
      "cell_type": "markdown",
      "metadata": {
        "id": "90cxtTwEJVTm",
        "colab_type": "text"
      },
      "source": [
        "# コース概要と紹介\n",
        "\n",
        "* Pandasの基礎的な使い方\n",
        "* Pandas DataFrame の基本的操作\n",
        "* データ構造と要素のアクセス\n",
        "* CSVファイルの読み込みとデータ処理\n",
        "* データフレームの値を処理\n",
        "* データセットの結合と連結"
      ]
    },
    {
      "cell_type": "markdown",
      "metadata": {
        "id": "iO1xLt9dJVQp",
        "colab_type": "text"
      },
      "source": [
        ""
      ]
    },
    {
      "cell_type": "code",
      "metadata": {
        "id": "vDdKAAEII199",
        "colab_type": "code",
        "colab": {}
      },
      "source": [
        ""
      ],
      "execution_count": 0,
      "outputs": []
    }
  ]
}